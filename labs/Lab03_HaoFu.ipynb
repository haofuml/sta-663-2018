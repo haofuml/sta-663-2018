{
 "cells": [
  {
   "cell_type": "markdown",
   "metadata": {},
   "source": [
    "**Brief Honor Code**. Do the homework on your own. You may discuss ideas with your classmates, but DO NOT copy the solutions from someone else or the Internet. If stuck, discuss with TA."
   ]
  },
  {
   "cell_type": "markdown",
   "metadata": {},
   "source": [
    "**1**. (50 points)\n",
    "\n",
    "Write separate `toolz` pipelines to generate the following variables\n",
    "\n",
    "- words: a list of all the words in the files `fortune?.txt` in the `data` directory\n",
    "- reverse_index: a reverse index of words (key=position, value=word)\n",
    "- index: an index of words (key=word, value=position)\n",
    "- cat: a list containing the categorical encoding of words\n",
    "\n",
    "Finally, use `numpy` to convert `cat` into a one-hot matrix with shape (#words, #unique words)"
   ]
  },
  {
   "cell_type": "code",
   "execution_count": 1,
   "metadata": {
    "collapsed": true
   },
   "outputs": [],
   "source": [
    "import os\n",
    "import glob\n",
    "import toolz as tz\n",
    "import toolz.curried as c\n",
    "from functools import partial\n",
    "from itertools import count\n",
    "import string\n",
    "import numpy as np\n",
    "\n",
    "\n",
    "words = tz.pipe(\n",
    "    os.path.join('data','fortune?.txt'),\n",
    "    glob.glob,\n",
    "    c.map(partial(open, encoding='latin-1')),\n",
    "    c.map(lambda f: f.read()),\n",
    "    c.map(lambda s: s.lower()),\n",
    "    c.map(lambda s: s.translate(str.maketrans('','',string.punctuation))),\n",
    "    c.mapcat(lambda s: s.split()),\n",
    "    list\n",
    ")\n",
    "\n",
    "index = tz.pipe(\n",
    "    words,\n",
    "    tz.unique,\n",
    "    lambda ws: zip(ws, count()),\n",
    "    dict\n",
    ")\n",
    "\n",
    "reverse_index = tz.pipe(\n",
    "    index,\n",
    "    lambda idx: zip(idx.values(), idx.keys()),\n",
    "    dict\n",
    ")\n",
    "\n",
    "cat = tz.pipe(\n",
    "    words,\n",
    "    c.map(lambda w: index[w]),\n",
    "    list\n",
    ")\n",
    "\n",
    "n,d = len(words),len(index)\n",
    "one_hot = np.zeros((n, d), dtype='int32')\n",
    "one_hot[range(n), cat] = 1"
   ]
  },
  {
   "cell_type": "markdown",
   "metadata": {},
   "source": [
    "**2**. (50 points)\n",
    "\n",
    "Write a simulation of diffusion-limited aggregation. In this simulation, we have $n$ random walkers. Each walker starts from row 0 and a random column number, and in each step, the walker increases the row number by 1 and randomly increments or decrements its column number by 1. If the column number of the walker exceeds the maximum or becomes negative, the walker emerges on the other side (toroidal boundary conditions). At any time, if any of the walkers 8 neighbors is non-zero, the walker stops in that position, and the number of steps taken is recorded in that (row, column).\n",
    "\n",
    "Write a function `dla(nwalkers, width, height, seed)` that returns a matrix with shape (width, height) after running `nwalkers` random walks as described above. The argument `ssed` is used to initialize a random number seed. Internally, the function should create a (width, height+1) matrix, and initialize the last row to have 1 with all other entries 0.\n",
    "\n",
    "Feel free to use loops. This function is not easily vectorized.\n",
    "\n",
    "Plot the returned matrix for the arguments `nwalkers=10000, width=300, height=150, seed=123`. It should look like this:\n",
    "\n",
    "![dla](figs/dla.png)"
   ]
  },
  {
   "cell_type": "code",
   "execution_count": 2,
   "metadata": {},
   "outputs": [
    {
     "data": {
      "image/png": "[encoded data removed]",
      "text/plain": [
       "<matplotlib.figure.Figure at 0x10b6f1d68>"
      ]
     },
     "metadata": {},
     "output_type": "display_data"
    }
   ],
   "source": [
    "%matplotlib inline\n",
    "import matplotlib.pyplot as plt\n",
    "import numpy as np\n",
    "\n",
    "def has_neighbors(row, col, mat):\n",
    "    idx_r = [row-1, row, row+1] if row else [0,1]\n",
    "    idx_c = [col-1, col, (col+1) % mat.shape[1]]\n",
    "    return np.any(mat[np.ix_(idx_r,idx_c)])\n",
    "\n",
    "def dla(nwalkers, width, height, seed):\n",
    "    np.random.seed = seed\n",
    "    col_init = np.random.randint(width, size=nwalkers)\n",
    "    mat = np.r_[np.zeros((height, width),dtype='int32'), [[1]*width]]\n",
    "    smallest_row = height\n",
    "    for n in range(nwalkers):\n",
    "        if smallest_row:\n",
    "            cur_r = smallest_row-1\n",
    "            cur_c = (np.sum(np.random.choice([-1,1],cur_r)) + col_init[n]) % width\n",
    "        else:\n",
    "            cur_r = 0\n",
    "            cur_c = col_init[n] % width\n",
    "        while not has_neighbors(cur_r, cur_c, mat):\n",
    "            cur_c = (np.random.choice([-1,1]) + cur_c) % width\n",
    "            cur_r += 1\n",
    "        mat[cur_r, cur_c] = cur_r\n",
    "        smallest_row = np.minimum(smallest_row, cur_r)\n",
    "    return mat[:-1]\n",
    "\n",
    "img = dla(10000, 300, 150, 123)\n",
    "plt.imshow(img)\n",
    "plt.xticks([])\n",
    "plt.yticks([])\n",
    "pass"
   ]
  },
  {
   "cell_type": "code",
   "execution_count": null,
   "metadata": {
    "collapsed": true
   },
   "outputs": [],
   "source": []
  }
 ],
 "metadata": {
  "kernelspec": {
   "display_name": "Python 3",
   "language": "python",
   "name": "python3"
  },
  "language_info": {
   "codemirror_mode": {
    "name": "ipython",
    "version": 3
   },
   "file_extension": ".py",
   "mimetype": "text/x-python",
   "name": "python",
   "nbconvert_exporter": "python",
   "pygments_lexer": "ipython3",
   "version": "3.6.3"
  }
 },
 "nbformat": 4,
 "nbformat_minor": 2
}
