{
 "cells": [
  {
   "cell_type": "markdown",
   "metadata": {},
   "source": [
    "For this first set of exercises, we want to practice using only Python standard libaries. In particular, do not include `numpy`. Use `math` and `random` instead."
   ]
  },
  {
   "cell_type": "markdown",
   "metadata": {},
   "source": [
    "# Python data types, collections and flow control"
   ]
  },
  {
   "cell_type": "markdown",
   "metadata": {},
   "source": [
    "**1**. Make a list of the first 10 odd square numbers. (10 points)"
   ]
  },
  {
   "cell_type": "code",
   "execution_count": 1,
   "metadata": {},
   "outputs": [
    {
     "data": {
      "text/plain": [
       "[1, 9, 25, 49, 81, 121, 169, 225, 289, 361]"
      ]
     },
     "execution_count": 1,
     "metadata": {},
     "output_type": "execute_result"
    }
   ],
   "source": [
    "[(2*i+1)**2 for i in range(10)]"
   ]
  },
  {
   "cell_type": "markdown",
   "metadata": {},
   "source": [
    "**2**. Some code is given below to generate two long lists of random interges. Find the integers present in both lists. (10 points)"
   ]
  },
  {
   "cell_type": "code",
   "execution_count": 2,
   "metadata": {
    "collapsed": true
   },
   "outputs": [],
   "source": [
    "import random\n",
    "\n",
    "random.seed(123)\n",
    "\n",
    "lower = 0\n",
    "upper = 100000\n",
    "n = 1000\n",
    "\n",
    "x = [random.randint(lower, upper) for i in range(n)]\n",
    "y = [random.randint(lower, upper) for i in range(n)]"
   ]
  },
  {
   "cell_type": "code",
   "execution_count": 3,
   "metadata": {},
   "outputs": [
    {
     "data": {
      "text/plain": [
       "{2137, 8420, 8509, 18836, 25227, 35160, 49492, 56780, 59512, 88500, 99469}"
      ]
     },
     "execution_count": 3,
     "metadata": {},
     "output_type": "execute_result"
    }
   ],
   "source": [
    "set(x) & set(y)"
   ]
  },
  {
   "cell_type": "markdown",
   "metadata": {},
   "source": [
    "**3**. Make a list of the first 100 [triangular numbers](https://en.wikipedia.org/wiki/Triangular_number) starting from 0. (20 points)"
   ]
  },
  {
   "cell_type": "code",
   "execution_count": 5,
   "metadata": {},
   "outputs": [
    {
     "data": {
      "text/plain": [
       "[0,\n",
       " 1,\n",
       " 3,\n",
       " 6,\n",
       " 10,\n",
       " 15,\n",
       " 21,\n",
       " 28,\n",
       " 36,\n",
       " 45,\n",
       " 55,\n",
       " 66,\n",
       " 78,\n",
       " 91,\n",
       " 105,\n",
       " 120,\n",
       " 136,\n",
       " 153,\n",
       " 171,\n",
       " 190,\n",
       " 210,\n",
       " 231,\n",
       " 253,\n",
       " 276,\n",
       " 300,\n",
       " 325,\n",
       " 351,\n",
       " 378,\n",
       " 406,\n",
       " 435,\n",
       " 465,\n",
       " 496,\n",
       " 528,\n",
       " 561,\n",
       " 595,\n",
       " 630,\n",
       " 666,\n",
       " 703,\n",
       " 741,\n",
       " 780,\n",
       " 820,\n",
       " 861,\n",
       " 903,\n",
       " 946,\n",
       " 990,\n",
       " 1035,\n",
       " 1081,\n",
       " 1128,\n",
       " 1176,\n",
       " 1225,\n",
       " 1275,\n",
       " 1326,\n",
       " 1378,\n",
       " 1431,\n",
       " 1485,\n",
       " 1540,\n",
       " 1596,\n",
       " 1653,\n",
       " 1711,\n",
       " 1770,\n",
       " 1830,\n",
       " 1891,\n",
       " 1953,\n",
       " 2016,\n",
       " 2080,\n",
       " 2145,\n",
       " 2211,\n",
       " 2278,\n",
       " 2346,\n",
       " 2415,\n",
       " 2485,\n",
       " 2556,\n",
       " 2628,\n",
       " 2701,\n",
       " 2775,\n",
       " 2850,\n",
       " 2926,\n",
       " 3003,\n",
       " 3081,\n",
       " 3160,\n",
       " 3240,\n",
       " 3321,\n",
       " 3403,\n",
       " 3486,\n",
       " 3570,\n",
       " 3655,\n",
       " 3741,\n",
       " 3828,\n",
       " 3916,\n",
       " 4005,\n",
       " 4095,\n",
       " 4186,\n",
       " 4278,\n",
       " 4371,\n",
       " 4465,\n",
       " 4560,\n",
       " 4656,\n",
       " 4753,\n",
       " 4851,\n",
       " 4950]"
      ]
     },
     "execution_count": 5,
     "metadata": {},
     "output_type": "execute_result"
    }
   ],
   "source": [
    "[n*(n+1)//2 for n in range(100)]"
   ]
  },
  {
   "cell_type": "markdown",
   "metadata": {},
   "source": [
    "**4**. A DNA seqeunce is provided below. It should be treated as a single seqeunce - it is borken into multiple lines for display purposes.\n",
    "\n",
    "- Find the ratio of the base 'G' to the base 'C'\n",
    "- What is the reverse complement of the DNA sequence? (The complementary bases are A=T, C=G)\n",
    "- Make a dictionary of counts for each letter in the sequence. Do not count the newline character.\n",
    "\n",
    "(20 points)"
   ]
  },
  {
   "cell_type": "code",
   "execution_count": 6,
   "metadata": {
    "collapsed": true
   },
   "outputs": [],
   "source": [
    "dna = \"\"\"\n",
    "TTTAAATTCCCTGGCACCCGCTGGAGTTCTCGATTTCGAC\n",
    "CAACCACGACGGTGTGATTCTGAATGTAGTTAGTATCTAC\n",
    "CCAGAGCTCAGGTCATATCGCGCCAAGCATAAAGGTGGCT\n",
    "GTTGAAAGTCGATGTCCGTATAAGTTCCGTTTCCTAATGA\n",
    "AACTGCTACGTAAGTCTAAAGTTATGAGCGCGGGCCGGGT\n",
    "TAAGGAAGCCCTACGGTTACTATATTACGCCAATATTTCT\n",
    "CATTCCCTTGCTTTGTTGATTAGGACAGAGGTCACCACAC\n",
    "CCGGAAGCCCGGTTCACGAGCTCCATCCAACGAGCCTTGC\n",
    "GAGGTATCGAGCAAACCAATATACTGCTAGGATCCGGTCT\n",
    "GGCGTTTTACCCCCATGAGATATAGTCCAGGTACTAAAAC\n",
    "CCTTCACCAGGGCAGAAGCGGGGTATACGCTGCCTACTCG\n",
    "TCATACAATTTCGGCTGGAGTTCGGTACGATAGACCGAGT\n",
    "CTGTCGGATACCCGGAAGAGTCACTCTGAAGTTGTACGAG\n",
    "GTGACTAGCTCAAAAGGAAGGGCGAAGAATGGTATGGTAC\n",
    "TCTAGAGCAGGCCATCTTTTACATAGGGCCCTTTGTTACC\n",
    "TTATGTAATGAACGTGGGAGCCCCGGACGTAAATTCTTTA\n",
    "GTCTCCCTAGACGCGTGGTCCCCACTAAATATACATGGTG\n",
    "AGCATCGCAGATACATGGCTTATCGAGGCCCGGGTCGTCA\n",
    "GAAAACGCGGTAAGTCATACGCATGTGCGGCGAATTAGCT\n",
    "TAGGGTGCGCATCTTCAAGCGGAAGTTCCCCCCGAGTGTC\n",
    "GACGCGTTCGTGCCATTAAAGCGTCTTCGAGTACGAATTA\n",
    "GACCAAGTCTGACGAAATTGCCTGAAGTTATAGGGGAAGT\n",
    "AGTCGAAGGGGACGGAGAACTTGTGAATCATAGCGCATGA\n",
    "GGAGATTAAGTCGGTTCATCAGCGTAACCACTTTAACCAC\n",
    "TAGTACGACCCCTGGATGAGTATTGTTCGTGTGTTTCCTC\n",
    "\"\"\""
   ]
  },
  {
   "cell_type": "code",
   "execution_count": 25,
   "metadata": {},
   "outputs": [
    {
     "data": {
      "text/plain": [
       "1.0886075949367089"
      ]
     },
     "execution_count": 25,
     "metadata": {},
     "output_type": "execute_result"
    }
   ],
   "source": [
    "c_c, g_c = 0,0\n",
    "for i in dna:\n",
    "    if i == 'C':\n",
    "        c_c += 1\n",
    "    elif i == 'G':\n",
    "        g_c += 1\n",
    "g_c/c_c"
   ]
  },
  {
   "cell_type": "code",
   "execution_count": 23,
   "metadata": {},
   "outputs": [
    {
     "data": {
      "text/plain": [
       "'AAATTTAAGGGACCGTGGGCGACCTCAAGAGCTAAAGCTGGTTGGTGCTGCCACACTAAGACTTACATCAATCATAGATGGGTCTCGAGTCCAGTATAGCGCGGTTCGTATTTCCACCGACAACTTTCAGCTACAGGCATATTCAAGGCAAAGGATTACTTTGACGATGCATTCAGATTTCAATACTCGCGCCCGGCCCAATTCCTTCGGGATGCCAATGATATAATGCGGTTATAAAGAGTAAGGGAACGAAACAACTAATCCTGTCTCCAGTGGTGTGGGCCTTCGGGCCAAGTGCTCGAGGTAGGTTGCTCGGAACGCTCCATAGCTCGTTTGGTTATATGACGATCCTAGGCCAGACCGCAAAATGGGGGTACTCTATATCAGGTCCATGATTTTGGGAAGTGGTCCCGTCTTCGCCCCATATGCGACGGATGAGCAGTATGTTAAAGCCGACCTCAAGCCATGCTATCTGGCTCAGACAGCCTATGGGCCTTCTCAGTGAGACTTCAACATGCTCCACTGATCGAGTTTTCCTTCCCGCTTCTTACCATACCATGAGATCTCGTCCGGTAGAAAATGTATCCCGGGAAACAATGGAATACATTACTTGCACCCTCGGGGCCTGCATTTAAGAAATCAGAGGGATCTGCGCACCAGGGGTGATTTATATGTACCACTCGTAGCGTCTATGTACCGAATAGCTCCGGGCCCAGCAGTCTTTTGCGCCATTCAGTATGCGTACACGCCGCTTAATCGAATCCCACGCGTAGAAGTTCGCCTTCAAGGGGGGCTCACAGCTGCGCAAGCACGGTAATTTCGCAGAAGCTCATGCTTAATCTGGTTCAGACTGCTTTAACGGACTTCAATATCCCCTTCATCAGCTTCCCCTGCCTCTTGAACACTTAGTATCGCGTACTCCTCTAATTCAGCCAAGTAGTCGCATTGGTGAAATTGGTGATCATGCTGGGGACCTACTCATAACAAGCACACAAAGGAG'"
      ]
     },
     "execution_count": 23,
     "metadata": {},
     "output_type": "execute_result"
    }
   ],
   "source": [
    "table = {'A':'T','T':'A','C':'G','G':'C'}\n",
    "''.join(table[i] for i in dna if i != '\\n')"
   ]
  },
  {
   "cell_type": "code",
   "execution_count": 18,
   "metadata": {},
   "outputs": [
    {
     "name": "stdout",
     "output_type": "stream",
     "text": [
      "{'G': 258, 'A': 254, 'T': 251, 'C': 237}\n"
     ]
    }
   ],
   "source": [
    "c = {'G':0,'A':0,'T':0,'C':0}\n",
    "for i in dna:\n",
    "    if i != '\\n':\n",
    "        c[i] += 1\n",
    "print(c)"
   ]
  },
  {
   "cell_type": "markdown",
   "metadata": {},
   "source": [
    "**5**. Buffon's needle is a mathematical thought experiment.\n",
    "\n",
    "Suppose there exist an infinite number of equally spaced parallel lines, and we were to randomly toss a needle whose length is less than or equal to the distance between adjacent lines. What is the probability that the needle will cross a line? The formula is \n",
    "$P = \\frac{2L}{\\pi D}$, where $D$ is the distance between two adjacent lines, and $L$ is the length of the needle.\n",
    "\n",
    "[Source: Wikipedia](https://en.wikipedia.org/wiki/Buffon%27s_noodle)\n",
    "\n",
    "Use a Monte Carlo simulaiton and elemntary trignometry to esitmate $\\pi$ using Buffon's needle by dropping 1 million  needles. (40 points)"
   ]
  },
  {
   "cell_type": "code",
   "execution_count": 44,
   "metadata": {},
   "outputs": [
    {
     "name": "stdout",
     "output_type": "stream",
     "text": [
      "3.1425047333977547\n"
     ]
    }
   ],
   "source": [
    "import random as rd\n",
    "import math as m\n",
    "D,L = 1,0.8\n",
    "count,n = 0,int(1e6)\n",
    "for _ in range(n):\n",
    "    theta = rd.uniform(0, 0.5*m.pi)\n",
    "    x = rd.uniform(0, D/2)\n",
    "    if 0.5*L*math.cos(theta) > x:\n",
    "        count += 1\n",
    "pi = 2*L*n/(count*D) # p = count/n\n",
    "print(pi)"
   ]
  },
  {
   "cell_type": "code",
   "execution_count": null,
   "metadata": {
    "collapsed": true
   },
   "outputs": [],
   "source": []
  }
 ],
 "metadata": {
  "kernelspec": {
   "display_name": "Python [default]",
   "language": "python",
   "name": "python3"
  },
  "language_info": {
   "codemirror_mode": {
    "name": "ipython",
    "version": 3
   },
   "file_extension": ".py",
   "mimetype": "text/x-python",
   "name": "python",
   "nbconvert_exporter": "python",
   "pygments_lexer": "ipython3",
   "version": "3.6.1"
  }
 },
 "nbformat": 4,
 "nbformat_minor": 2
}
