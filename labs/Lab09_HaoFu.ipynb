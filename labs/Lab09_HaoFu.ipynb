{
 "cells": [
  {
   "cell_type": "markdown",
   "metadata": {},
   "source": [
    "**1.** (10 points)\n",
    "\n",
    "Use loop to generate the 12 by 12 times table. Compile and run. You don't have to worry much about formatting, but the output should have 12 rows with numbers separated by spaces."
   ]
  },
  {
   "cell_type": "code",
   "execution_count": 1,
   "metadata": {},
   "outputs": [
    {
     "name": "stdout",
     "output_type": "stream",
     "text": [
      "Overwriting q1.cpp\n"
     ]
    }
   ],
   "source": [
    "%%file q1.cpp\n",
    "\n",
    "#include <iostream>\n",
    "#include <Eigen/Dense>\n",
    "\n",
    "using std::cout;\n",
    "using std::endl;\n",
    "        \n",
    "int main(){\n",
    "    using namespace Eigen;\n",
    "    VectorXd x = VectorXd::LinSpaced(12,1,12);\n",
    "    MatrixXd M = x * x.transpose();\n",
    "    cout << M << endl;\n",
    "}"
   ]
  },
  {
   "cell_type": "code",
   "execution_count": 2,
   "metadata": {
    "collapsed": true
   },
   "outputs": [],
   "source": [
    "%%bash\n",
    "\n",
    "g++-7 -o q1.exe q1.cpp -std=c++14 -I ../notebooks/eigen3"
   ]
  },
  {
   "cell_type": "code",
   "execution_count": 3,
   "metadata": {},
   "outputs": [
    {
     "name": "stdout",
     "output_type": "stream",
     "text": [
      "  1   2   3   4   5   6   7   8   9  10  11  12\n",
      "  2   4   6   8  10  12  14  16  18  20  22  24\n",
      "  3   6   9  12  15  18  21  24  27  30  33  36\n",
      "  4   8  12  16  20  24  28  32  36  40  44  48\n",
      "  5  10  15  20  25  30  35  40  45  50  55  60\n",
      "  6  12  18  24  30  36  42  48  54  60  66  72\n",
      "  7  14  21  28  35  42  49  56  63  70  77  84\n",
      "  8  16  24  32  40  48  56  64  72  80  88  96\n",
      "  9  18  27  36  45  54  63  72  81  90  99 108\n",
      " 10  20  30  40  50  60  70  80  90 100 110 120\n",
      " 11  22  33  44  55  66  77  88  99 110 121 132\n",
      " 12  24  36  48  60  72  84  96 108 120 132 144\n"
     ]
    }
   ],
   "source": [
    "%%bash\n",
    "./q1.exe"
   ]
  },
  {
   "cell_type": "markdown",
   "metadata": {},
   "source": [
    "**2.** (10 points)\n",
    " \n",
    "Write a function that takes a vector of doubles  returns the squared vector. Compile and run the function with the initial vector containing 1.0, 2.0, 3.0, 4.0, 5.0."
   ]
  },
  {
   "cell_type": "code",
   "execution_count": 4,
   "metadata": {},
   "outputs": [
    {
     "name": "stdout",
     "output_type": "stream",
     "text": [
      "Overwriting q2.cpp\n"
     ]
    }
   ],
   "source": [
    "%%file q2.cpp\n",
    "\n",
    "#include <iostream>\n",
    "#include <vector>\n",
    "\n",
    "using std::cout;\n",
    "using std::endl;\n",
    "using std::vector;\n",
    "\n",
    "vector<double> squared(vector<double> vec){\n",
    "    vector<double> squared_vec;\n",
    "    for (auto val: vec){\n",
    "        squared_vec.push_back(val*val);\n",
    "    }\n",
    "    return squared_vec;\n",
    "}\n",
    "\n",
    "int main(){\n",
    "    vector<double> v1={1.0,2.0,3.0,4.0,5.0};\n",
    "    vector<double> squared_v1=squared(v1);\n",
    "    for (auto val:squared_v1){\n",
    "        cout << val << endl;\n",
    "    }\n",
    "}"
   ]
  },
  {
   "cell_type": "code",
   "execution_count": 5,
   "metadata": {
    "collapsed": true
   },
   "outputs": [],
   "source": [
    "%%bash\n",
    "g++-7 -o q2.exe q2.cpp -std=c++14"
   ]
  },
  {
   "cell_type": "code",
   "execution_count": 6,
   "metadata": {},
   "outputs": [
    {
     "name": "stdout",
     "output_type": "stream",
     "text": [
      "1\n",
      "4\n",
      "9\n",
      "16\n",
      "25\n"
     ]
    }
   ],
   "source": [
    "%%bash\n",
    "./q2.exe"
   ]
  },
  {
   "cell_type": "markdown",
   "metadata": {},
   "source": [
    "**3**. (10 points)\n",
    "\n",
    "Convert the function from Exercise 2 so that it works for lists or vectors of ints, floats and doubles."
   ]
  },
  {
   "cell_type": "code",
   "execution_count": 7,
   "metadata": {},
   "outputs": [
    {
     "name": "stdout",
     "output_type": "stream",
     "text": [
      "Overwriting q3.cpp\n"
     ]
    }
   ],
   "source": [
    "%%file q3.cpp\n",
    "\n",
    "#include <iostream>\n",
    "#include <vector>\n",
    "\n",
    "using std::cout;\n",
    "using std::endl;\n",
    "using std::vector;\n",
    "\n",
    "template<typename T>\n",
    "vector<T> squared(vector<T> vec){\n",
    "    vector<T> squared_vec;\n",
    "    for (auto val: vec){\n",
    "        squared_vec.push_back(val*val);\n",
    "    }\n",
    "    return squared_vec;\n",
    "}\n",
    "\n",
    "int main(){\n",
    "    vector<int> v1={1,2,3,4,5};\n",
    "    vector<float> v2={1.0,2.0,3.0,4.0,5.0};\n",
    "    vector<double> v3={1.0,2.0,3.0,4.0,5.0};\n",
    "    \n",
    "    vector<int> squared_v1=squared(v1);\n",
    "    vector<float> squared_v2=squared(v2);\n",
    "    vector<double> squared_v3=squared(v3);\n",
    "    // test vectors have same size, different data type\n",
    "    for (auto i=0; i<v1.size() ; i++){\n",
    "        cout << squared_v1[i] <<' ' << squared_v2[i]<<' '<< squared_v3[i] << endl;\n",
    "    }\n",
    "}"
   ]
  },
  {
   "cell_type": "code",
   "execution_count": 8,
   "metadata": {
    "collapsed": true
   },
   "outputs": [],
   "source": [
    "%%bash\n",
    "g++-7 -o q3.exe q3.cpp -std=c++14"
   ]
  },
  {
   "cell_type": "code",
   "execution_count": 9,
   "metadata": {},
   "outputs": [
    {
     "name": "stdout",
     "output_type": "stream",
     "text": [
      "1 1 1\n",
      "4 4 4\n",
      "9 9 9\n",
      "16 16 16\n",
      "25 25 25\n"
     ]
    }
   ],
   "source": [
    "%%bash\n",
    "./q3.exe"
   ]
  },
  {
   "cell_type": "markdown",
   "metadata": {},
   "source": [
    "**4**. (10 pionts)\n",
    "\n",
    "Write a function to calculate the mean of a vector of numbers using `accumulate` from the `<numeric>` library. Compile and test with some vectors."
   ]
  },
  {
   "cell_type": "code",
   "execution_count": 10,
   "metadata": {},
   "outputs": [
    {
     "name": "stdout",
     "output_type": "stream",
     "text": [
      "Overwriting q4.cpp\n"
     ]
    }
   ],
   "source": [
    "%%file q4.cpp\n",
    "\n",
    "#include <iostream>\n",
    "#include <numeric>\n",
    "#include <vector>\n",
    "\n",
    "using std::cout;\n",
    "using std::endl;\n",
    "using std::accumulate;\n",
    "using std::vector;\n",
    "using std::begin;\n",
    "using std::end;\n",
    "\n",
    "double mean(vector<double> vec){\n",
    "    return accumulate(begin(vec), end(vec), 0.0)/vec.size();\n",
    "}        \n",
    "        \n",
    "int main(){\n",
    "    vector<double> v1={1,2,3,4,5};\n",
    "    vector<double> v2={-1.2, -3.4, 5.7, 10, 4};\n",
    "    cout << mean(v1) << ' ' << mean(v2) << endl;\n",
    "}"
   ]
  },
  {
   "cell_type": "code",
   "execution_count": 11,
   "metadata": {
    "collapsed": true
   },
   "outputs": [],
   "source": [
    "%%bash\n",
    "g++-7 -o q4.exe q4.cpp -std=c++14"
   ]
  },
  {
   "cell_type": "code",
   "execution_count": 12,
   "metadata": {},
   "outputs": [
    {
     "name": "stdout",
     "output_type": "stream",
     "text": [
      "3 3.02\n"
     ]
    }
   ],
   "source": [
    "%%bash\n",
    "./q4.exe"
   ]
  },
  {
   "cell_type": "markdown",
   "metadata": {},
   "source": [
    "**5**. (10 points)\n",
    "\n",
    "Generate 1000 random points from the exponential distribution and save as a comma-separated values (CSV) file. Open the file in Python and plot the distribution using `plt.hist`."
   ]
  },
  {
   "cell_type": "code",
   "execution_count": 13,
   "metadata": {},
   "outputs": [
    {
     "name": "stdout",
     "output_type": "stream",
     "text": [
      "Overwriting q5.cpp\n"
     ]
    }
   ],
   "source": [
    "%%file q5.cpp\n",
    "\n",
    "#include <fstream>\n",
    "#include <random>\n",
    "#include <functional>\n",
    "\n",
    "using std::ofstream;\n",
    "using std::default_random_engine;\n",
    "using std::exponential_distribution;\n",
    "using std::bind;\n",
    "        \n",
    "int main(){\n",
    "    ofstream fout(\"exp_random_data.csv\");\n",
    "    default_random_engine re{12345};\n",
    "    exponential_distribution<double> exp_dist(5);\n",
    "    auto rexp = bind(exp_dist, re);\n",
    "    for (int i=0; i<1000; i++){\n",
    "        fout << rexp() << \"\\n\";\n",
    "    }\n",
    "}"
   ]
  },
  {
   "cell_type": "code",
   "execution_count": 14,
   "metadata": {
    "collapsed": true
   },
   "outputs": [],
   "source": [
    "%%bash\n",
    "g++-7 -o q5.exe q5.cpp -std=c++14"
   ]
  },
  {
   "cell_type": "code",
   "execution_count": 15,
   "metadata": {
    "collapsed": true
   },
   "outputs": [],
   "source": [
    "%%bash\n",
    "./q5.exe"
   ]
  },
  {
   "cell_type": "code",
   "execution_count": 16,
   "metadata": {},
   "outputs": [
    {
     "data": {
      "image/png": "[encoded data removed]",
      "text/plain": [
       "<matplotlib.figure.Figure at 0x10801ee10>"
      ]
     },
     "metadata": {},
     "output_type": "display_data"
    }
   ],
   "source": [
    "%matplotlib inline\n",
    "import matplotlib.pyplot as plt\n",
    "import numpy as np\n",
    "try:\n",
    "    data = np.loadtxt(\"exp_random_data.csv\")\n",
    "    plt.hist(data, density=True)\n",
    "except FileNotFoundError:\n",
    "    pass"
   ]
  },
  {
   "cell_type": "markdown",
   "metadata": {},
   "source": [
    "**6**. (20 points)\n",
    "\n",
    "Implement Newton's method in 1D for root finding. Pass in the function and gradient as generalized function pointers. Use the method to find all roots of the polynomial equation $f(x) = x^3 - 7x - 6$. You may use the `std::abs` and `std::pow` from the `cmath` library."
   ]
  },
  {
   "cell_type": "code",
   "execution_count": 17,
   "metadata": {},
   "outputs": [
    {
     "data": {
      "image/png": "[encoded data removed]",
      "text/plain": [
       "<matplotlib.figure.Figure at 0x10f120f28>"
      ]
     },
     "metadata": {},
     "output_type": "display_data"
    }
   ],
   "source": [
    "f = lambda x: x**3 - 7*x - 6\n",
    "r = np.roots([1, 0, -7, -6])\n",
    "\n",
    "xi = np.linspace(-2.5, 3.5, 100)\n",
    "plt.plot(xi, f(xi))\n",
    "plt.scatter(r, np.zeros_like(r), c='red')\n",
    "plt.axhline(0)\n",
    "plt.show()"
   ]
  },
  {
   "cell_type": "code",
   "execution_count": 18,
   "metadata": {},
   "outputs": [
    {
     "name": "stdout",
     "output_type": "stream",
     "text": [
      "Overwriting q6.cpp\n"
     ]
    }
   ],
   "source": [
    "%%file q6.cpp\n",
    "\n",
    "#include <iostream>\n",
    "#include <functional>\n",
    "#include <cmath>\n",
    "\n",
    "using std::cout;\n",
    "using std::endl;\n",
    "using std::function;\n",
    "using std::pow;\n",
    "using std::abs;\n",
    "using func = function<double(double)>;\n",
    "\n",
    "\n",
    "double newton(double x0, func f, func grad){\n",
    "    int max_itr = 100;\n",
    "    double tol = 0.00001;\n",
    "    double sln = x0;\n",
    "    double fval;\n",
    "    for (int i=0; i<max_itr; i++){\n",
    "        fval = f(sln);\n",
    "        if(abs(fval) < tol){\n",
    "            break;\n",
    "        }\n",
    "        else{\n",
    "            sln = sln - fval/grad(sln);\n",
    "        }\n",
    "    }\n",
    "    return sln;\n",
    "}\n",
    "\n",
    "int main(){\n",
    "    auto f = [](double x){return pow(x,3)-7*x-6;};\n",
    "    auto grad = [](double x){return 3*pow(x,2)-7;};\n",
    "    double x0[3]={-3,0,4};\n",
    "    for (auto val:x0){\n",
    "        cout << newton(val, f, grad) << endl;\n",
    "    }\n",
    "}"
   ]
  },
  {
   "cell_type": "code",
   "execution_count": 19,
   "metadata": {
    "collapsed": true
   },
   "outputs": [],
   "source": [
    "%%bash\n",
    "g++-7 -o q6.exe q6.cpp -std=c++14"
   ]
  },
  {
   "cell_type": "code",
   "execution_count": 20,
   "metadata": {},
   "outputs": [
    {
     "name": "stdout",
     "output_type": "stream",
     "text": [
      "-2\n",
      "-1\n",
      "3\n"
     ]
    }
   ],
   "source": [
    "%%bash\n",
    "./q6.exe"
   ]
  },
  {
   "cell_type": "markdown",
   "metadata": {},
   "source": [
    "**7**.  (30 points)\n",
    "\n",
    "Use the Eigen library to\n",
    "\n",
    "- Generate 10 x-coordinates linearly spaced between 10 and 15\n",
    "- Generate 10 random y-values as $y = 3x^2 - 7x + 2 + \\epsilon$ where $\\epsilon \\sim 10 N(0,1)$\n",
    "- Find the length of $x$ and $y$ and the Euclidean distance between $x$ and $y$\n",
    "- Find the correlation between $x$ and $y$ using\n",
    "![img](https://wikimedia.org/api/rest_v1/media/math/render/svg/60e3f3116e2923c792aafb904dcac308624a1d77)\n",
    "- Solve the linear system to find a quadratic fit for this data\n",
    "\n",
    "If you use the seed 12345 for the random number generator, you should get the following solutions."
   ]
  },
  {
   "cell_type": "code",
   "execution_count": 21,
   "metadata": {
    "collapsed": true
   },
   "outputs": [],
   "source": [
    "x = np.array('10 10.5556 11.1111 11.6667 12.2222 12.7778 13.3333 13.8889 14.4444 15'.split()).astype('float')\n",
    "y = np.array('232.862 264.056 310.697 322.345 359.037 412.095 448.471 468.163 533.646 579.763'.split()).astype('float')"
   ]
  },
  {
   "cell_type": "code",
   "execution_count": 22,
   "metadata": {},
   "outputs": [
    {
     "data": {
      "text/plain": [
       "(39.849248331681238, 1290.0872394156142)"
      ]
     },
     "execution_count": 22,
     "metadata": {},
     "output_type": "execute_result"
    }
   ],
   "source": [
    "np.linalg.norm(x), np.linalg.norm(y)"
   ]
  },
  {
   "cell_type": "code",
   "execution_count": 23,
   "metadata": {},
   "outputs": [
    {
     "data": {
      "text/plain": [
       "1250.6696992541238"
      ]
     },
     "execution_count": 23,
     "metadata": {},
     "output_type": "execute_result"
    }
   ],
   "source": [
    "np.linalg.norm(x-y)"
   ]
  },
  {
   "cell_type": "code",
   "execution_count": 24,
   "metadata": {},
   "outputs": [
    {
     "data": {
      "text/plain": [
       "0.99408300523983062"
      ]
     },
     "execution_count": 24,
     "metadata": {},
     "output_type": "execute_result"
    }
   ],
   "source": [
    "np.corrcoef(x, y)[0,1]"
   ]
  },
  {
   "cell_type": "code",
   "execution_count": 27,
   "metadata": {
    "scrolled": true
   },
   "outputs": [
    {
     "data": {
      "text/plain": [
       "array([ 100.9138974 ,  -22.66697873,    3.62437276])"
      ]
     },
     "execution_count": 27,
     "metadata": {},
     "output_type": "execute_result"
    }
   ],
   "source": [
    "X = np.c_[np.ones_like(x), x, x**2]\n",
    "np.linalg.lstsq(X, y)[0]"
   ]
  },
  {
   "cell_type": "markdown",
   "metadata": {},
   "source": [
    "**Note**: Remember to indicate the location of the eigen3 headers using the `-I` flag"
   ]
  },
  {
   "cell_type": "code",
   "execution_count": 28,
   "metadata": {},
   "outputs": [
    {
     "name": "stdout",
     "output_type": "stream",
     "text": [
      "Overwriting q7.cpp\n"
     ]
    }
   ],
   "source": [
    "%%file q7.cpp\n",
    "\n",
    "#include <iostream>\n",
    "#include <Eigen/Dense>\n",
    "#include <random>\n",
    "#include <functional>\n",
    "#include <cmath>\n",
    "\n",
    "using std::cout;\n",
    "using std::endl;\n",
    "using std::default_random_engine;\n",
    "using std::normal_distribution;\n",
    "using std::bind;\n",
    "using std::sqrt;\n",
    "\n",
    "default_random_engine re{12345};\n",
    "normal_distribution<double> normal(0,1);\n",
    "auto rnorm = bind(normal, re);\n",
    "\n",
    "int main(){\n",
    "    using namespace Eigen;\n",
    "    VectorXd x = VectorXd::LinSpaced(10, 10, 15);\n",
    "    VectorXd y = x.unaryExpr([](double x){return 3*x*x-7*x+2+10*rnorm();});\n",
    "    \n",
    "    double x_norm = x.norm();\n",
    "    double y_norm = y.norm();\n",
    "    double dist = (x-y).norm();\n",
    "    \n",
    "    VectorXd x_mean = VectorXd::Constant(x.size(), x.sum()/x.size());\n",
    "    VectorXd y_mean = VectorXd::Constant(y.size(), y.sum()/x.size());\n",
    "    VectorXd x1 = x - x_mean;\n",
    "    VectorXd y1 = y - y_mean;\n",
    "    double corr = x1.dot(y1)/(x1.norm()*y1.norm());\n",
    "    \n",
    "    MatrixXd Xmat(x.size(),3);\n",
    "    Xmat << VectorXd::Constant(10, 1), x, x.unaryExpr([](double x){return x*x;});\n",
    "    \n",
    "    VectorXd sln = Xmat.jacobiSvd(ComputeThinU | ComputeThinV).solve(y);\n",
    "    \n",
    "    \n",
    "    cout << \"x = \" << x.transpose() << endl;\n",
    "    cout << \"y = \" << y.transpose() << endl;\n",
    "    cout << \"length of x = \" << x_norm << endl;\n",
    "    cout << \"length of y = \" << y_norm << endl;\n",
    "    cout << \"distance between x and y is \" << dist << endl;\n",
    "    cout << \"correlation between x and y is \" << corr << endl;\n",
    "    cout << \"quadratic fit parameters are \" << sln.transpose() << endl;\n",
    "}\n",
    "\n"
   ]
  },
  {
   "cell_type": "code",
   "execution_count": 29,
   "metadata": {},
   "outputs": [],
   "source": [
    "%%bash\n",
    "g++-7 -o q7.exe q7.cpp -std=c++14 -I ../notebooks/eigen3"
   ]
  },
  {
   "cell_type": "code",
   "execution_count": 30,
   "metadata": {},
   "outputs": [
    {
     "name": "stdout",
     "output_type": "stream",
     "text": [
      "x =      10 10.5556 11.1111 11.6667 12.2222 12.7778 13.3333 13.8889 14.4444      15\n",
      "y = 233.118 256.464 288.336  334.49 359.992 406.205 435.374  476.11 528.573 577.913\n",
      "length of x = 39.8493\n",
      "length of y = 1280.37\n",
      "distance between x and y is 1240.97\n",
      "correlation between x and y is 0.99626\n",
      "quadratic fit parameters are   92.219 -22.5769  3.65027\n"
     ]
    }
   ],
   "source": [
    "%%bash\n",
    "./q7.exe"
   ]
  },
  {
   "cell_type": "code",
   "execution_count": null,
   "metadata": {
    "collapsed": true
   },
   "outputs": [],
   "source": []
  }
 ],
 "metadata": {
  "kernelspec": {
   "display_name": "Python 3",
   "language": "python",
   "name": "python3"
  },
  "language_info": {
   "codemirror_mode": {
    "name": "ipython",
    "version": 3
   },
   "file_extension": ".py",
   "mimetype": "text/x-python",
   "name": "python",
   "nbconvert_exporter": "python",
   "pygments_lexer": "ipython3",
   "version": "3.6.3"
  }
 },
 "nbformat": 4,
 "nbformat_minor": 2
}
