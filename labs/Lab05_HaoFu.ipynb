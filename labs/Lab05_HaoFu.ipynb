{
 "cells": [
  {
   "cell_type": "markdown",
   "metadata": {},
   "source": [
    "**Brief Honor Code**. Do the homework on your own. You may discuss ideas with your classmates, but DO NOT copy the solutions from someone else or the Internet. If stuck, discuss with TA."
   ]
  },
  {
   "cell_type": "markdown",
   "metadata": {},
   "source": [
    "**1**. (20 points)\n",
    "\n",
    "Consider the linear transformation $f(x)$ on $\\mathbb{R}^3$ that takes the standard basis $\\left\\{e_1,e_2,e_3\\right\\}$ to $\\left\\{v_1,v_2,v_3\\right\\}$ where\n",
    "\n",
    "$$v_1=\\left(\\begin{matrix}10\\\\-10\\\\16\\end{matrix}\\right), v_2=\\left(\\begin{matrix}2\\\\-5\\\\20\\end{matrix}\\right) \\textrm {and } v_3=\\left(\\begin{matrix}1\\\\-4\\\\13\\end{matrix}\\right)$$\n",
    "\n",
    "1. Write a matrix $A$ that represents the same linear transformation. (4 points)\n",
    "\n",
    "2. Compute the rank of $A$ using two different methods (do not use `matrix_rank`!). (4 points)\n",
    "\n",
    "3. Find the eigenvalues and eigenvectors of $A$. (4 points)\n",
    "\n",
    "4. What is the matrix representation of $f$ with respect to the eigenbasis? (8 points)"
   ]
  },
  {
   "cell_type": "code",
   "execution_count": 1,
   "metadata": {},
   "outputs": [],
   "source": [
    "import numpy as np\n",
    "%matplotlib inline\n",
    "import matplotlib.pyplot as plt\n",
    "from scipy.linalg import svd,qr,eigh\n",
    "from numpy.linalg import inv\n",
    "eps = 1e-8\n",
    "\n",
    "A = np.array([[10,-10,16],[2,-5,20],[1,-4,13]]).T\n",
    "\n",
    "U,s,Vt = svd(A, False)\n",
    "Q,R = qr(A)\n",
    "rank1 = np.sum(s>eps)\n",
    "rank2 = np.sum(np.abs(np.diag(R))>eps)\n",
    "assert rank1 == rank2\n",
    "\n",
    "e,V = eigh(A)\n",
    "A_new = inv(V)@A@V"
   ]
  },
  {
   "cell_type": "markdown",
   "metadata": {},
   "source": [
    "**2**. (20 points)\n",
    "\n",
    "You are given the following x-y coordinates (first column is x, second is y)\n",
    "\n",
    "```\n",
    "array([[  0.        ,   4.12306991],\n",
    "       [  3.        , -15.47355729],\n",
    "       [  4.        , -11.68725507],\n",
    "       [  3.        , -20.33756693],\n",
    "       [  5.        ,  -6.06401989],\n",
    "       [  6.        ,  32.79353057],\n",
    "       [  8.        ,  82.48658405],\n",
    "       [  9.        ,  84.02971858],\n",
    "       [  4.        ,  -1.30587276],\n",
    "       [  8.        ,  68.59409878]])\n",
    "```\n",
    "\n",
    "- Find the coefficients $(a, b, c)$ of the least-squares fit of a quadratic function $y = a + bx + cx^2$ to the data. \n",
    "- Plot the data and fitted curve using `matplotlib`."
   ]
  },
  {
   "cell_type": "code",
   "execution_count": 2,
   "metadata": {},
   "outputs": [],
   "source": [
    "xs = np.array([\n",
    "    [  0.        ,   4.12306991],\n",
    "    [  3.        , -15.47355729],\n",
    "    [  4.        , -11.68725507],\n",
    "    [  3.        , -20.33756693],\n",
    "    [  5.        ,  -6.06401989],\n",
    "    [  6.        ,  32.79353057],\n",
    "    [  8.        ,  82.48658405],\n",
    "    [  9.        ,  84.02971858],\n",
    "    [  4.        ,  -1.30587276],\n",
    "    [  8.        ,  68.59409878]])"
   ]
  },
  {
   "cell_type": "code",
   "execution_count": 3,
   "metadata": {},
   "outputs": [
    {
     "data": {
      "image/png": "[encoded data removed]",
      "text/plain": [
       "<matplotlib.figure.Figure at 0x103ede6a0>"
      ]
     },
     "metadata": {},
     "output_type": "display_data"
    }
   ],
   "source": [
    "from scipy.linalg import lstsq\n",
    "y = xs[:,1]\n",
    "X = np.c_[[1]*len(xs), xs[:,0], xs[:,0]**2]\n",
    "\n",
    "coeff, res, rank, s = lstsq(X,y)\n",
    "\n",
    "plt.plot(xs[:,0], y, 'ro')\n",
    "x_co = np.linspace(0,9,100)\n",
    "plt.plot(x_co, np.c_[[1]*100, x_co, x_co**2] @ coeff)\n",
    "pass"
   ]
  },
  {
   "cell_type": "markdown",
   "metadata": {},
   "source": [
    "**3**. (20 points)\n",
    "\n",
    "Use the `svd` function to solve the least squares problem above, and repeat the same plot. Calculate the residual error $\\lvert y - X\\beta \\rvert$."
   ]
  },
  {
   "cell_type": "code",
   "execution_count": 4,
   "metadata": {},
   "outputs": [
    {
     "name": "stdout",
     "output_type": "stream",
     "text": [
      "residual absolute error is:\n",
      " [  4.48069887   2.54125925   4.68840861   7.40526889  10.06112898\n",
      "  12.73796195  15.12658447  14.57625244   5.6929737    1.2340992 ]\n"
     ]
    },
    {
     "data": {
      "image/png": "[encoded data removed]",
      "text/plain": [
       "<matplotlib.figure.Figure at 0x10ba7abe0>"
      ]
     },
     "metadata": {},
     "output_type": "display_data"
    }
   ],
   "source": [
    "_, s, Vt = svd(X)\n",
    "beta = Vt.T@np.diag(1/s**2)@Vt @ X.T @ y\n",
    "res = np.abs(y - X@beta)\n",
    "print('residual absolute error is:\\n', res)\n",
    "\n",
    "plt.plot(xs[:,0], y, 'ro')\n",
    "x_co = np.linspace(0,9,100)\n",
    "plt.plot(x_co, np.c_[[1]*len(x_co), x_co, x_co**2] @ beta)\n",
    "pass"
   ]
  },
  {
   "cell_type": "markdown",
   "metadata": {},
   "source": [
    "**4**. (20 points) \n",
    "\n",
    "Avoiding catastrophic cancellation.\n",
    "\n",
    "Read the Wikipedia entry on [loss of significance](https://en.wikipedia.org/wiki/Loss_of_significance). Then answer the following problem:\n",
    "\n",
    "The tail of the standard logistic distribution is given by $1 - F(t) = 1 - (1+e^{-t})^{-1}$.\n",
    "\n",
    "- Define a function `f1` to calculate the tail probability of the logistic distribution using the formula given above\n",
    "- Use [`sympy`](http://docs.sympy.org/latest/index.html) to find the exact value of the tail distribution (using the same symbolic formula) to 20 decimal digits\n",
    "- Calculate the *relative error* of `f1` when $t = 25$ (The relative error is given by `abs(exact - approximate)/exact`)\n",
    "- Rewrite the expression for the tail of the logistic distribution using simple algebra so that there is no risk of cancellation, and write a function `f2` using this formula. Calculate the *relative error* of `f2` when $t = 25$. \n",
    "- How much more accurate is `f2` compared with `f1` in terms of the relative error?"
   ]
  },
  {
   "cell_type": "code",
   "execution_count": 5,
   "metadata": {},
   "outputs": [
    {
     "name": "stdout",
     "output_type": "stream",
     "text": [
      "relative error decreased by 18128623032 scale\n"
     ]
    }
   ],
   "source": [
    "from sympy import symbols,exp,N\n",
    "def f1(t):\n",
    "    return 1-1/(1+np.exp(-t))\n",
    "\n",
    "t = symbols('t')\n",
    "exact_expr = 1-1/(1+exp(-t))\n",
    "exact = N(exact_expr.subs(t,25), 20)\n",
    "f1_rerr = abs(exact-f1(25))/exact\n",
    "\n",
    "def f2(t):\n",
    "    return 1/(np.exp(t)+1)\n",
    "f2_rerr = abs(exact-f2(25))/exact\n",
    "print('relative error decreased by %i scale'%(f1_rerr/f2_rerr))"
   ]
  },
  {
   "cell_type": "markdown",
   "metadata": {},
   "source": [
    "**5**. (20 points)\n",
    "\n",
    "Read in `figs/elephant.jpg` as a gray-scale image. The image has $1066 \\times 1600$ values. Using SVD, recreate the image with a relative error of less than 0.5%. What is the relative size of the compressed image as a percentage?"
   ]
  },
  {
   "cell_type": "code",
   "execution_count": 6,
   "metadata": {
    "collapsed": true
   },
   "outputs": [],
   "source": [
    "from skimage import io\n",
    "img = io.imread('figs/elephant.jpg', as_grey=True)"
   ]
  },
  {
   "cell_type": "code",
   "execution_count": 7,
   "metadata": {},
   "outputs": [
    {
     "name": "stdout",
     "output_type": "stream",
     "text": [
      "the relative size of compressed image is 73%\n"
     ]
    }
   ],
   "source": [
    "m,n = img.shape\n",
    "U,s,Vt = svd(img)\n",
    "rank = len(s>eps)\n",
    "topk = np.argmax((np.cumsum(s)/np.sum(s)) > 99.5/100) + 1\n",
    "img_rec = U[:,:topk]@np.diag(s[:topk])@Vt[:topk,:]\n",
    "print('the relative size of compressed image is %i%%'%(topk/rank*100))"
   ]
  },
  {
   "cell_type": "code",
   "execution_count": null,
   "metadata": {
    "collapsed": true
   },
   "outputs": [],
   "source": []
  }
 ],
 "metadata": {
  "kernelspec": {
   "display_name": "Python 3",
   "language": "python",
   "name": "python3"
  },
  "language_info": {
   "codemirror_mode": {
    "name": "ipython",
    "version": 3
   },
   "file_extension": ".py",
   "mimetype": "text/x-python",
   "name": "python",
   "nbconvert_exporter": "python",
   "pygments_lexer": "ipython3",
   "version": "3.6.3"
  }
 },
 "nbformat": 4,
 "nbformat_minor": 2
}
