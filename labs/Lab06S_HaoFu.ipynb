{
 "cells": [
  {
   "cell_type": "markdown",
   "metadata": {},
   "source": [
    "# Supplementary Practice Problems\n",
    "\n",
    "These are similar to programming problems you may encounter in the mid-terms. They are not graded but we will review them in lab sessions.\n",
    "\n",
    "For these questions, you should try to solve the problem manually first (or at least detail out the steps if the algebra is too horrible), then use `scipy.linalg` package routine(s) to solve."
   ]
  },
  {
   "cell_type": "markdown",
   "metadata": {},
   "source": [
    "**1**. Write down the full-matrix, block matrix and outer product forms of the SVD using $\\LaTeX$ in a markdown cell."
   ]
  },
  {
   "cell_type": "markdown",
   "metadata": {
    "collapsed": true
   },
   "source": [
    "$$\n",
    "A = U \\Sigma V^T\n",
    "$$"
   ]
  },
  {
   "cell_type": "markdown",
   "metadata": {},
   "source": [
    "$$\n",
    "A = \\begin{bmatrix}\n",
    "U_1 & U_2\n",
    "\\end{bmatrix}\n",
    "\\begin{bmatrix}\n",
    "\\Sigma_1 & 0\\\\\n",
    "0 & 0\n",
    "\\end{bmatrix}\n",
    "\\begin{bmatrix}\n",
    "V_1^{T}\\\\\n",
    "V_2^{T}\n",
    "\\end{bmatrix}\n",
    "$$"
   ]
  },
  {
   "cell_type": "markdown",
   "metadata": {},
   "source": [
    "$$\n",
    "A = \\sum_{i=1}^k s_i u_i v_i^T\n",
    "$$"
   ]
  },
  {
   "cell_type": "markdown",
   "metadata": {},
   "source": [
    "**2**. Let\n",
    "$$\n",
    "u = \\begin{bmatrix}\n",
    "1 \\\\\n",
    "2 \\\\\n",
    "3 \n",
    "\\end{bmatrix}\n",
    "$$\n",
    "Find a non-zero vector $v$ that is orthogonal to $u$, and another non-zero vector $w$ that is orthogonal to both $u$ and $v$. Construct an orthogonal matrix $Q$ using the unit versions of $u, v, w$. What is the inverse of $Q$?"
   ]
  },
  {
   "cell_type": "code",
   "execution_count": 1,
   "metadata": {
    "collapsed": true
   },
   "outputs": [],
   "source": [
    "import numpy as np\n",
    "import scipy.linalg as la\n",
    "u = [1,2,3]\n",
    "v = [3,0,-1]\n",
    "w1 = np.cross(u,v)"
   ]
  },
  {
   "cell_type": "code",
   "execution_count": 2,
   "metadata": {},
   "outputs": [],
   "source": [
    "A = np.c_[u,v]\n",
    "w2 = np.array([1,0,0])\n",
    "w2 = w2 - A@la.inv(A.T@A)@A.T @ w2"
   ]
  },
  {
   "cell_type": "code",
   "execution_count": 3,
   "metadata": {
    "collapsed": true
   },
   "outputs": [],
   "source": [
    "w3 = np.array([1,0,0])\n",
    "sln,_,_,_ = la.lstsq(A,w3)\n",
    "w3 = w3 - A@sln"
   ]
  },
  {
   "cell_type": "code",
   "execution_count": 4,
   "metadata": {},
   "outputs": [
    {
     "data": {
      "text/plain": [
       "array([[1, 0, 0],\n",
       "       [0, 1, 0],\n",
       "       [0, 0, 1]])"
      ]
     },
     "execution_count": 4,
     "metadata": {},
     "output_type": "execute_result"
    }
   ],
   "source": [
    "A = np.c_[u,v,w1]\n",
    "Q1 = A/np.linalg.norm(A, axis=0)\n",
    "np.round(Q1 @ Q1.T, 10).astype('int')"
   ]
  },
  {
   "cell_type": "code",
   "execution_count": 5,
   "metadata": {},
   "outputs": [
    {
     "data": {
      "text/plain": [
       "array([[1, 0, 0],\n",
       "       [0, 1, 0],\n",
       "       [0, 0, 1]])"
      ]
     },
     "execution_count": 5,
     "metadata": {},
     "output_type": "execute_result"
    }
   ],
   "source": [
    "Q3 = la.orth(np.c_[u,v,w3])\n",
    "np.round(Q3 @ Q3.T, 10).astype('int')"
   ]
  },
  {
   "cell_type": "markdown",
   "metadata": {},
   "source": [
    "**3**. Find a basis for the 4 fundamental spaces of $A$, where\n",
    "$$\n",
    "A = \\begin{bmatrix}\n",
    "1 & 2 & 3 & 3 \\\\\n",
    "2 & 0 & 6 & 2 \\\\\n",
    "3 & 4 & 9 & 7\n",
    "\\end{bmatrix}\n",
    "$$\n",
    "State the dimension of each basis, and the dimension of the space of the basis vectors."
   ]
  },
  {
   "cell_type": "code",
   "execution_count": 6,
   "metadata": {},
   "outputs": [],
   "source": [
    "A =  np.array([[1,2,3,3],[2,0,6,2],[3,4,9,7]])\n",
    "U,s,Vh = la.svd(A)\n",
    "eps = 1e-10\n",
    "rank = sum(s>eps)\n",
    "# C(A) basis\n",
    "C_A = U[:,:rank]\n",
    "# N(A.T) basis\n",
    "N_At = U[:,rank:]\n",
    "# C(A.T) basis\n",
    "C_At = Vh[:rank,:].T\n",
    "# N(A) basis\n",
    "N_A = Vh[rank:,:].T"
   ]
  },
  {
   "cell_type": "code",
   "execution_count": 7,
   "metadata": {},
   "outputs": [
    {
     "name": "stdout",
     "output_type": "stream",
     "text": [
      "[[-0.]\n",
      " [-0.]\n",
      " [-0.]\n",
      " [-0.]]\n",
      "[[ 0.  0.]\n",
      " [ 0. -0.]\n",
      " [ 0. -0.]]\n"
     ]
    }
   ],
   "source": [
    "print(np.round(A.T@N_At, 10))\n",
    "print(np.round(A@N_A, 10))"
   ]
  },
  {
   "cell_type": "markdown",
   "metadata": {},
   "source": [
    "**4**. Find the projection of\n",
    "$$\n",
    "b = \\begin{bmatrix}\n",
    "3 \\\\\n",
    "2 \\\\\n",
    "1\n",
    "\\end{bmatrix}\n",
    "$$\n",
    "on the column space of $A$ by using the projection matrix, where \n",
    "$$\n",
    "A = \\begin{bmatrix}\n",
    "1 & 2 & 3 & 3 \\\\\n",
    "2 & 0 & 6 & 2 \\\\\n",
    "3 & 4 & 9 & 7\n",
    "\\end{bmatrix}\n",
    "$$"
   ]
  },
  {
   "cell_type": "code",
   "execution_count": 8,
   "metadata": {},
   "outputs": [],
   "source": [
    "b = np.array([3,2,1]).reshape(-1,1)\n",
    "b_proj = C_A@la.inv(C_A.T@C_A)@C_A.T @ b"
   ]
  },
  {
   "cell_type": "code",
   "execution_count": 9,
   "metadata": {},
   "outputs": [
    {
     "data": {
      "text/plain": [
       "array([[ 0.],\n",
       "       [ 0.],\n",
       "       [ 0.]])"
      ]
     },
     "execution_count": 9,
     "metadata": {},
     "output_type": "execute_result"
    }
   ],
   "source": [
    "sln,_,_,_ = la.lstsq(A, b)\n",
    "np.round(A@sln-b_proj, 10)"
   ]
  },
  {
   "cell_type": "markdown",
   "metadata": {},
   "source": [
    "**5**. What is the inverse of\n",
    "$$\n",
    "A = \\begin{bmatrix}\n",
    "0 & 0 & 0 & 1 \\\\\n",
    "0 & 0 & 1 & 0 \\\\\n",
    "1 & 0 & 0 & 0 \\\\\n",
    "0 & 1 & 0 & 0\n",
    "\\end{bmatrix}\n",
    "$$"
   ]
  },
  {
   "cell_type": "code",
   "execution_count": 10,
   "metadata": {},
   "outputs": [
    {
     "data": {
      "text/plain": [
       "array([[1, 0, 0, 0],\n",
       "       [0, 1, 0, 0],\n",
       "       [0, 0, 1, 0],\n",
       "       [0, 0, 0, 1]])"
      ]
     },
     "execution_count": 10,
     "metadata": {},
     "output_type": "execute_result"
    }
   ],
   "source": [
    "A = np.array([[0,0,0,1],[0,0,1,0],[1,0,0,0],[0,1,0,0]])\n",
    "A.T @ A"
   ]
  },
  {
   "cell_type": "markdown",
   "metadata": {},
   "source": [
    "**6**. Find the eigenvalues and eigenvectors of $A^TA$, and find an eigendecomposition of $A^TA = V \\Lambda V^T$. Finally, construct the SVD of $A$ and use it to generate $A$\n",
    "$$\n",
    "A = \\begin{bmatrix}\n",
    "1 & 2 & 3 & 3 \\\\\n",
    "2 & 0 & 6 & 11 \\\\\n",
    "3 & 4 & 9 & 7 \\\\\n",
    "4 & 4 & 4 & 4\n",
    "\\end{bmatrix}\n",
    "$$"
   ]
  },
  {
   "cell_type": "code",
   "execution_count": 11,
   "metadata": {},
   "outputs": [
    {
     "data": {
      "text/plain": [
       "array([[ 0.,  0.,  0.,  0.],\n",
       "       [ 0.,  0.,  0.,  0.],\n",
       "       [ 0.,  0.,  0.,  0.],\n",
       "       [ 0.,  0.,  0.,  0.]])"
      ]
     },
     "execution_count": 11,
     "metadata": {},
     "output_type": "execute_result"
    }
   ],
   "source": [
    "A =  np.array([[1,2,3,3],[2,0,6,11],[3,4,9,7],[4,4,4,4]])\n",
    "e, vec = la.eigh(A.T@A)\n",
    "e, vec = e[::-1], vec[:,::-1] # la.eigh results use ascending order \n",
    "eps = 1e-10\n",
    "k = sum(np.abs(e)>eps)\n",
    "# k = np.linalg.matrix_rank(A)\n",
    "D, V = np.diag(e[:k]), vec[:, :k]\n",
    "np.round(A.T@A - V@D@V.T, 10)"
   ]
  },
  {
   "cell_type": "code",
   "execution_count": 12,
   "metadata": {},
   "outputs": [
    {
     "data": {
      "text/plain": [
       "array([[ 0.,  0.,  0.,  0.],\n",
       "       [ 0.,  0.,  0.,  0.],\n",
       "       [ 0.,  0.,  0.,  0.],\n",
       "       [ 0.,  0.,  0.,  0.]])"
      ]
     },
     "execution_count": 12,
     "metadata": {},
     "output_type": "execute_result"
    }
   ],
   "source": [
    "s = np.sqrt(e)\n",
    "U = A@V@np.diag(1/s)\n",
    "np.round(A-U@np.diag(s)@V.T, 10)"
   ]
  },
  {
   "cell_type": "markdown",
   "metadata": {},
   "source": [
    "**7**. Find an orthogonal basis and the QR decomposition for\n",
    "$$\n",
    "A = \\begin{bmatrix}\n",
    "1 & 2 & 0 \\\\\n",
    "1 & 0 & 2 \\\\\n",
    "0 & 1 & 2\n",
    "\\end{bmatrix}\n",
    "$$"
   ]
  },
  {
   "cell_type": "code",
   "execution_count": 13,
   "metadata": {},
   "outputs": [],
   "source": [
    "A = np.array([[1,2,0],[1,0,2],[0,1,2]])\n",
    "Q,R = la.qr(A)"
   ]
  },
  {
   "cell_type": "markdown",
   "metadata": {},
   "source": [
    "**8**. Solve the following problem\n",
    "$$\n",
    "\\begin{bmatrix}\n",
    "1 & 2 & 3 & 3 \\\\\n",
    "2 & 0 & 6 & 11 \\\\\n",
    "3 & 4 & 9 & 7 \\\\\n",
    "4 & 4 & 4 & 4\n",
    "\\end{bmatrix} \\begin{bmatrix}\n",
    "x_1 \\\\\n",
    "x_2 \\\\\n",
    "x_3 \\\\\n",
    "x_4\n",
    "\\end{bmatrix} = \\begin{bmatrix}\n",
    "4 \\\\\n",
    "3 \\\\\n",
    "2 \\\\\n",
    "1\n",
    "\\end{bmatrix}\n",
    "$$\n",
    "using the following factorizations\n",
    "- Gaussian elimination\n",
    "- LU\n",
    "- LDU\n",
    "- QR\n",
    "- SVD"
   ]
  },
  {
   "cell_type": "code",
   "execution_count": 14,
   "metadata": {},
   "outputs": [
    {
     "data": {
      "text/plain": [
       "array([[-3.29166667],\n",
       "       [ 3.33333333],\n",
       "       [-1.45833333],\n",
       "       [ 1.66666667]])"
      ]
     },
     "execution_count": 14,
     "metadata": {},
     "output_type": "execute_result"
    }
   ],
   "source": [
    "A = np.array([\n",
    "    [1,2,3,3],\n",
    "    [2,0,6,11],\n",
    "    [3,4,9,7],\n",
    "    [4,4,4,4]\n",
    "])\n",
    "b = np.array([4,3,2,1])[:,None]\n",
    "sln0 = la.solve(A, b)\n",
    "sln0"
   ]
  },
  {
   "cell_type": "code",
   "execution_count": 15,
   "metadata": {},
   "outputs": [
    {
     "data": {
      "text/plain": [
       "array([[-3.29166667],\n",
       "       [ 3.33333333],\n",
       "       [-1.45833333],\n",
       "       [ 1.66666667]])"
      ]
     },
     "execution_count": 15,
     "metadata": {},
     "output_type": "execute_result"
    }
   ],
   "source": [
    "#LU\n",
    "# P,L,U = la.lu(A)\n",
    "# print(np.allclose(P@L@U, A))\n",
    "# y = la.solve_triangular(L, P.T@b, lower=True)\n",
    "# sln1 = la.solve_triangular(U,y, lower=False)\n",
    "# sln1\n",
    "LU, P = la.lu_factor(A)\n",
    "sln1 = la.lu_solve((LU,P), b)\n",
    "sln1"
   ]
  },
  {
   "cell_type": "code",
   "execution_count": 16,
   "metadata": {},
   "outputs": [
    {
     "name": "stdout",
     "output_type": "stream",
     "text": [
      "True\n"
     ]
    },
    {
     "data": {
      "text/plain": [
       "array([[-3.29166667],\n",
       "       [ 3.33333333],\n",
       "       [-1.45833333],\n",
       "       [ 1.66666667]])"
      ]
     },
     "execution_count": 16,
     "metadata": {},
     "output_type": "execute_result"
    }
   ],
   "source": [
    "#LDU\n",
    "P,L,U = la.lu(A)\n",
    "D = np.diag(U)\n",
    "U = U/D[:,None]\n",
    "print(np.allclose(P@L@np.diag(D)@U,A))\n",
    "y = la.solve_triangular(L, P.T@b, lower=True)\n",
    "sln2 = la.solve_triangular(U, y/D[:,None], lower=False)\n",
    "sln2"
   ]
  },
  {
   "cell_type": "code",
   "execution_count": 17,
   "metadata": {},
   "outputs": [
    {
     "data": {
      "text/plain": [
       "array([[-3.29166667],\n",
       "       [ 3.33333333],\n",
       "       [-1.45833333],\n",
       "       [ 1.66666667]])"
      ]
     },
     "execution_count": 17,
     "metadata": {},
     "output_type": "execute_result"
    }
   ],
   "source": [
    "#QR\n",
    "Q,R = la.qr(A)\n",
    "sln3 = la.solve_triangular(R,Q.T@b, lower=False)\n",
    "sln3"
   ]
  },
  {
   "cell_type": "code",
   "execution_count": 18,
   "metadata": {},
   "outputs": [
    {
     "data": {
      "text/plain": [
       "array([[-3.29166667],\n",
       "       [ 3.33333333],\n",
       "       [-1.45833333],\n",
       "       [ 1.66666667]])"
      ]
     },
     "execution_count": 18,
     "metadata": {},
     "output_type": "execute_result"
    }
   ],
   "source": [
    "#SVD\n",
    "U,s,Vt = la.svd(A)\n",
    "sln4 = 1/s * Vt.T @ U.T @ b\n",
    "sln4"
   ]
  },
  {
   "cell_type": "markdown",
   "metadata": {},
   "source": [
    "**9**. Let $A$ be the plane spanned by the vectors\n",
    "\n",
    "$$ v_1\n",
    "\\begin{bmatrix}\n",
    "1 \\\\\n",
    "0 \\\\\n",
    "1 \\\\\n",
    "0\n",
    "\\end{bmatrix}, v_2 = \\begin{bmatrix}\n",
    "1 \\\\\n",
    "2 \\\\\n",
    "3 \\\\\n",
    "4\n",
    "\\end{bmatrix}\n",
    "$$\n",
    "What is the point on the plane nearest to the vectors $b_1$ and $b_2$.\n",
    "$$\n",
    "b_1 = \\begin{bmatrix}\n",
    "3 \\\\\n",
    "2 \\\\\n",
    "5 \\\\\n",
    "4\n",
    "\\end{bmatrix}, b_2 = \\begin{bmatrix}\n",
    "3 \\\\\n",
    "2 \\\\\n",
    "0 \\\\\n",
    "4\n",
    "\\end{bmatrix}\n",
    "$$\n",
    "Find the orthogonal distance from $b_1$ and $b_2$ to its nearest point."
   ]
  },
  {
   "cell_type": "code",
   "execution_count": 19,
   "metadata": {},
   "outputs": [
    {
     "name": "stdout",
     "output_type": "stream",
     "text": [
      "[[ 3.]\n",
      " [ 2.]\n",
      " [ 5.]\n",
      " [ 4.]] [  4.32199511e-16]\n",
      "[[ 0.72727273]\n",
      " [ 1.54545455]\n",
      " [ 2.27272727]\n",
      " [ 3.09090909]] [ 3.37099931]\n"
     ]
    }
   ],
   "source": [
    "A = np.c_[[1,0,1,0],[1,2,3,4]]\n",
    "b1 = np.array([3,2,5,4])[:,None]\n",
    "b2 = np.array([3,2,0,4])[:,None]\n",
    "x1,res1,k,_ = la.lstsq(A,b1)\n",
    "b1_proj = A@x1\n",
    "dist1 = np.sqrt(res1)\n",
    "print(b1_proj, dist1)\n",
    "x2,res2,k,_ = la.lstsq(A,b2)\n",
    "b2_proj = A@x2\n",
    "dist2 = np.sqrt(res2)\n",
    "print(b2_proj, dist2)"
   ]
  },
  {
   "cell_type": "markdown",
   "metadata": {},
   "source": [
    "**10**. Let\n",
    "$$\n",
    "A = \\begin{bmatrix}\n",
    "1 & 2 & 3 & 3 \\\\\n",
    "2 & 0 & 6 & 2 \\\\\n",
    "3 & 4 & 9 & 7 \\\\\n",
    "4 & 4 & 4 & 4\n",
    "\\end{bmatrix}\n",
    "$$\n",
    "- What is the rank of $A$\n",
    "- What is the condition number of $A$?\n",
    "- What is the best rank-1 and rank-2 approximation of $A$?\n",
    "- What is the distance between $A$ and the best rank-1 and rank-2 approximation of $A$ using the Frobenius norm?"
   ]
  },
  {
   "cell_type": "code",
   "execution_count": 20,
   "metadata": {},
   "outputs": [
    {
     "name": "stdout",
     "output_type": "stream",
     "text": [
      "4.1035635177e+16\n",
      "4.11783149863 1.94826022477\n"
     ]
    }
   ],
   "source": [
    "A = np.array(\n",
    "    [[1,2,3,3],\n",
    "     [2,0,6,2],\n",
    "     [3,4,9,7],\n",
    "     [4,4,4,4]]\n",
    ")\n",
    "k = np.linalg.matrix_rank(A)\n",
    "U,s,Vt = la.svd(A)\n",
    "cond = s[0]/s[-1]\n",
    "print(cond)\n",
    "A_rec1 = s[:1] * U[:,:1] @ Vt[:1,:]\n",
    "A_rec2 = s[:2] * U[:,:2] @ Vt[:2,:]\n",
    "dist1 = la.norm(A_rec1-A)\n",
    "dist2 = la.norm(A_rec2-A)\n",
    "print(dist1, dist2)"
   ]
  },
  {
   "cell_type": "code",
   "execution_count": null,
   "metadata": {
    "collapsed": true
   },
   "outputs": [],
   "source": []
  }
 ],
 "metadata": {
  "kernelspec": {
   "display_name": "Python 3",
   "language": "python",
   "name": "python3"
  },
  "language_info": {
   "codemirror_mode": {
    "name": "ipython",
    "version": 3
   },
   "file_extension": ".py",
   "mimetype": "text/x-python",
   "name": "python",
   "nbconvert_exporter": "python",
   "pygments_lexer": "ipython3",
   "version": "3.6.3"
  }
 },
 "nbformat": 4,
 "nbformat_minor": 2
}
