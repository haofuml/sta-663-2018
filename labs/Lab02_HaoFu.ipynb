{
 "cells": [
  {
   "cell_type": "markdown",
   "metadata": {},
   "source": [
    "**Brief Honor Code**. Do the homework on your own. You may discuss ideas with your classmates, but DO NOT copy the solutions from someone else or the Internet. If stuck, discuss with TA."
   ]
  },
  {
   "cell_type": "markdown",
   "metadata": {},
   "source": [
    "**1**. (10 points) \n",
    "\n",
    "Rewrite the following code into functional form using lambdas, map, filter and reduce."
   ]
  },
  {
   "cell_type": "code",
   "execution_count": 1,
   "metadata": {},
   "outputs": [
    {
     "data": {
      "text/plain": [
       "123"
      ]
     },
     "execution_count": 1,
     "metadata": {},
     "output_type": "execute_result"
    }
   ],
   "source": [
    "n = 10\n",
    "s = 10\n",
    "for i in range(n):\n",
    "    if i % 2:\n",
    "        s |= i**2\n",
    "s"
   ]
  },
  {
   "cell_type": "code",
   "execution_count": 2,
   "metadata": {},
   "outputs": [
    {
     "data": {
      "text/plain": [
       "123"
      ]
     },
     "execution_count": 2,
     "metadata": {},
     "output_type": "execute_result"
    }
   ],
   "source": [
    "from functools import reduce\n",
    "n = s = 10\n",
    "reduce(lambda x,y: x|y, map(lambda x: x**2, filter(lambda x: x%2, range(n))), s)"
   ]
  },
  {
   "cell_type": "markdown",
   "metadata": {},
   "source": [
    "**2**. (10 points)\n",
    "\n",
    "Rewrite the code above as a `toolz` pipeline, using lambdas and curried or partially applied functions as necessary."
   ]
  },
  {
   "cell_type": "code",
   "execution_count": 3,
   "metadata": {},
   "outputs": [
    {
     "data": {
      "text/plain": [
       "123"
      ]
     },
     "execution_count": 3,
     "metadata": {},
     "output_type": "execute_result"
    }
   ],
   "source": [
    "import toolz as tz\n",
    "import toolz.curried as c\n",
    "from functools import partial\n",
    "tz.pipe(\n",
    "    range(s),\n",
    "    c.filter(lambda x: x%2),\n",
    "    c.map(lambda x: x**2),\n",
    "    c.reduce(lambda x,y: x|y),\n",
    "    partial(lambda x,y: x|y, s)\n",
    ")"
   ]
  },
  {
   "cell_type": "markdown",
   "metadata": {},
   "source": [
    "**3**. (10 points) \n",
    "\n",
    "Repeat the Buffon's needle simulation from Lab01 as a function that takes the number of needels `n` as input and returns the estimate of $\\pi$. The function should use `numpy` and vectorization.  What is $\\pi$ for 1 million needles?"
   ]
  },
  {
   "cell_type": "code",
   "execution_count": 4,
   "metadata": {},
   "outputs": [
    {
     "data": {
      "text/plain": [
       "3.1381163456635153"
      ]
     },
     "execution_count": 4,
     "metadata": {},
     "output_type": "execute_result"
    }
   ],
   "source": [
    "import numpy as np\n",
    "def Buffon_Pi(n):\n",
    "    D,L = 1,0.8\n",
    "    theta = np.random.uniform(0, 0.5*np.pi, n)\n",
    "    x = np.random.uniform(0, 0.5*D, n)\n",
    "    count = np.sum(0.5*L*np.cos(theta)>x)\n",
    "    pi = 2*L*n/(count*D)\n",
    "    return pi\n",
    "Buffon_Pi(int(1e6))"
   ]
  },
  {
   "cell_type": "markdown",
   "metadata": {},
   "source": [
    "**4**. (20 points) \n",
    "\n",
    "Simpsons rule is given by the follwoing approximation\n",
    "\n",
    "![Simpsons](https://wikimedia.org/api/rest_v1/media/math/render/svg/a0cdf0804bb8810e4438cbea898dc7a2fedb3e57)\n",
    "\n",
    "- Write Simpsons rule as a function `simpsons(f, a, b, n=100)` where n is the number of equally spaced intervals from `a` to `b`.  (10 points)\n",
    "- Use this function to estimate the probability mass of the standard normal distribution between -1 and 1. Implement the PDF of the standard normal distribution $\\psi(x)$ as a function. (10 points)\n",
    "\n",
    "$$\n",
    "\\psi(x) = \\frac{1}{\\sqrt{2\\pi}}e^{-\\frac{1}{2}x^2}\n",
    "$$"
   ]
  },
  {
   "cell_type": "code",
   "execution_count": 5,
   "metadata": {},
   "outputs": [
    {
     "data": {
      "text/plain": [
       "0.68268949299754922"
      ]
     },
     "execution_count": 5,
     "metadata": {},
     "output_type": "execute_result"
    }
   ],
   "source": [
    "def simpsons(f, a, b, n=100):\n",
    "    h = (b-a)/n\n",
    "    x = f(np.linspace(a,b,n+1))\n",
    "    y = np.array([1]+[4 if i%2 else 2 for i in range(1,n)]+[1])\n",
    "    return np.dot(x,y)*h/3\n",
    "\n",
    "def std_norm(x):\n",
    "    return np.exp(-0.5*x**2)/np.sqrt(2*np.pi)\n",
    "\n",
    "simpsons(std_norm, -1, 1)"
   ]
  },
  {
   "cell_type": "markdown",
   "metadata": {},
   "source": [
    "**5**. (50 points)\n",
    "\n",
    "Write code to generate a plot similar to the following \n",
    "\n",
    "![automata](./automata1d.png)\n",
    "\n",
    "using the explanation for generation of 1D Cellular Automata found [here](http://mathworld.wolfram.com/ElementaryCellularAutomaton.html). You should only need to use standard Python, `numpy` and `matplotllib`.\n",
    "\n",
    "The input to the function making the plots should be a simple list of rules\n",
    "\n",
    "```python\n",
    "rules = [30, 54, 60, 62, 90, 94, 102, 110, 122, 126, \n",
    "         150, 158, 182, 188, 190, 220, 222, 250]\n",
    "make_plots(rules, niter, ncols)\n",
    "```\n",
    "\n",
    "You may, of course, write other helper functions to keep your code modular."
   ]
  },
  {
   "cell_type": "code",
   "execution_count": 6,
   "metadata": {},
   "outputs": [
    {
     "data": {
      "image/png": "[encoded data removed]",
      "text/plain": [
       "<matplotlib.figure.Figure at 0x11392b860>"
      ]
     },
     "metadata": {},
     "output_type": "display_data"
    }
   ],
   "source": [
    "%matplotlib inline\n",
    "import matplotlib.pyplot as plt\n",
    "import numpy as np\n",
    "\n",
    "# niter,ncols = 15,31\n",
    "def construct_table(rule):\n",
    "    code = format(rule, '08b')\n",
    "    return {format(n,'03b'):int(char) for n,char in enumerate(code[::-1])}\n",
    "\n",
    "def mat_gen(rule, niter, ncols):\n",
    "    rows = [np.zeros(ncols, dtype='int32')]\n",
    "    rows[0][ncols//2] = 1\n",
    "    table = construct_table(rule)\n",
    "    for i in range(niter-1):\n",
    "        tmp = np.zeros(ncols, dtype='int32')\n",
    "        for j in range(1, ncols-1):\n",
    "            key_str = ''.join([str(n) for n in rows[-1][j-1:j+2]])\n",
    "            tmp[j] = table[key_str]\n",
    "        rows.append(tmp)\n",
    "    return np.vstack(rows)\n",
    "\n",
    "def make_plots(rules, niter, ncols):\n",
    "    fig,axes = plt.subplots(6, 3, figsize=(9,18))\n",
    "    plt.setp(axes, xticks=np.arange(-0.5,ncols,1), xticklabels=[],\n",
    "        yticks=np.arange(-0.5,niter,1), yticklabels=[])\n",
    "    for i,ax in enumerate(axes.ravel()):\n",
    "        ax.imshow(mat_gen(rules[i], niter, ncols), cmap='gray_r')\n",
    "        ax.set_title('rule %d' % rules[i])\n",
    "        ax.grid(color='gray')\n",
    "        ax.xaxis.set_ticks_position('none')\n",
    "        ax.yaxis.set_ticks_position('none')\n",
    "    plt.tight_layout()\n",
    "    \n",
    "rules = [30, 54, 60, 62, 90, 94, 102, 110, 122, 126, \n",
    "         150, 158, 182, 188, 190, 220, 222, 250]\n",
    "make_plots(rules, 15, 31)\n"
   ]
  },
  {
   "cell_type": "code",
   "execution_count": null,
   "metadata": {
    "collapsed": true
   },
   "outputs": [],
   "source": []
  }
 ],
 "metadata": {
  "kernelspec": {
   "display_name": "Python 3",
   "language": "python",
   "name": "python3"
  },
  "language_info": {
   "codemirror_mode": {
    "name": "ipython",
    "version": 3
   },
   "file_extension": ".py",
   "mimetype": "text/x-python",
   "name": "python",
   "nbconvert_exporter": "python",
   "pygments_lexer": "ipython3",
   "version": "3.6.3"
  }
 },
 "nbformat": 4,
 "nbformat_minor": 2
}
