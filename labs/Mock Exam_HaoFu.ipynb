{
 "cells": [
  {
   "cell_type": "code",
   "execution_count": 1,
   "metadata": {
    "collapsed": true
   },
   "outputs": [],
   "source": [
    "%matplotlib inline"
   ]
  },
  {
   "cell_type": "code",
   "execution_count": 2,
   "metadata": {
    "collapsed": true
   },
   "outputs": [],
   "source": [
    "import matplotlib.pyplot as plt\n",
    "import numpy as np\n",
    "import pandas as pd\n",
    "import scipy.linalg as la\n",
    "import scipy.optimize as opt"
   ]
  },
  {
   "cell_type": "code",
   "execution_count": 3,
   "metadata": {
    "collapsed": true
   },
   "outputs": [],
   "source": [
    "%load_ext rpy2.ipython"
   ]
  },
  {
   "cell_type": "markdown",
   "metadata": {},
   "source": [
    "**1**. (10 points)\n",
    "\n",
    "Euclid's algorithm for finding the greatest common divisor of two numbers is\n",
    "\n",
    "```python\n",
    "gcd(a, 0) = a\n",
    "gcd(a, b) = gcd(b, a modulo b)\n",
    "```\n",
    "\n",
    "1. Write a function to find the greatest common divisor in Python \n",
    "2. What is the greatest common divisor of 17384 and 1928?\n",
    "3. Write a function to calculate the least common multiple\n",
    "4. What is the least common multiple of 17384 and 1928? "
   ]
  },
  {
   "cell_type": "code",
   "execution_count": 4,
   "metadata": {
    "collapsed": true
   },
   "outputs": [],
   "source": [
    "def gcd(a,b):\n",
    "    if b == 0:\n",
    "        return a\n",
    "    return gcd(b, a%b)\n",
    "\n",
    "def lcm(a,b):\n",
    "    return a*b//gcd(a,b)"
   ]
  },
  {
   "cell_type": "code",
   "execution_count": 5,
   "metadata": {},
   "outputs": [
    {
     "data": {
      "text/plain": [
       "8"
      ]
     },
     "execution_count": 5,
     "metadata": {},
     "output_type": "execute_result"
    }
   ],
   "source": [
    "gcd(17384, 1928)"
   ]
  },
  {
   "cell_type": "code",
   "execution_count": 6,
   "metadata": {},
   "outputs": [
    {
     "data": {
      "text/plain": [
       "4189544"
      ]
     },
     "execution_count": 6,
     "metadata": {},
     "output_type": "execute_result"
    }
   ],
   "source": [
    "lcm(17384, 1928)"
   ]
  },
  {
   "cell_type": "markdown",
   "metadata": {},
   "source": [
    "**2**. (10 points)\n",
    "\n",
    "\n",
    "Using the `iris` dataset from http://goo.gl/3b3439, answer the following questions:\n",
    "\n",
    "- Find the mean, min and max values of all four measurements (sepal.length, sepal.width, petal.length, petal.width) for each species\n",
    "- Find the average petal.width for rows where the petal.length is less than the sepal.width"
   ]
  },
  {
   "cell_type": "code",
   "execution_count": 7,
   "metadata": {},
   "outputs": [
    {
     "data": {
      "text/html": [
       "<div>\n",
       "<style>\n",
       "    .dataframe thead tr:only-child th {\n",
       "        text-align: right;\n",
       "    }\n",
       "\n",
       "    .dataframe thead th {\n",
       "        text-align: left;\n",
       "    }\n",
       "\n",
       "    .dataframe tbody tr th {\n",
       "        vertical-align: top;\n",
       "    }\n",
       "</style>\n",
       "<table border=\"1\" class=\"dataframe\">\n",
       "  <thead>\n",
       "    <tr>\n",
       "      <th></th>\n",
       "      <th colspan=\"3\" halign=\"left\">sepal_length</th>\n",
       "      <th colspan=\"3\" halign=\"left\">sepal_width</th>\n",
       "      <th colspan=\"3\" halign=\"left\">petal_length</th>\n",
       "      <th colspan=\"3\" halign=\"left\">petal_width</th>\n",
       "    </tr>\n",
       "    <tr>\n",
       "      <th></th>\n",
       "      <th>mean</th>\n",
       "      <th>min</th>\n",
       "      <th>max</th>\n",
       "      <th>mean</th>\n",
       "      <th>min</th>\n",
       "      <th>max</th>\n",
       "      <th>mean</th>\n",
       "      <th>min</th>\n",
       "      <th>max</th>\n",
       "      <th>mean</th>\n",
       "      <th>min</th>\n",
       "      <th>max</th>\n",
       "    </tr>\n",
       "    <tr>\n",
       "      <th>species</th>\n",
       "      <th></th>\n",
       "      <th></th>\n",
       "      <th></th>\n",
       "      <th></th>\n",
       "      <th></th>\n",
       "      <th></th>\n",
       "      <th></th>\n",
       "      <th></th>\n",
       "      <th></th>\n",
       "      <th></th>\n",
       "      <th></th>\n",
       "      <th></th>\n",
       "    </tr>\n",
       "  </thead>\n",
       "  <tbody>\n",
       "    <tr>\n",
       "      <th>setosa</th>\n",
       "      <td>5.006</td>\n",
       "      <td>4.3</td>\n",
       "      <td>5.8</td>\n",
       "      <td>3.418</td>\n",
       "      <td>2.3</td>\n",
       "      <td>4.4</td>\n",
       "      <td>1.464</td>\n",
       "      <td>1.0</td>\n",
       "      <td>1.9</td>\n",
       "      <td>0.244</td>\n",
       "      <td>0.1</td>\n",
       "      <td>0.6</td>\n",
       "    </tr>\n",
       "    <tr>\n",
       "      <th>versicolor</th>\n",
       "      <td>5.936</td>\n",
       "      <td>4.9</td>\n",
       "      <td>7.0</td>\n",
       "      <td>2.770</td>\n",
       "      <td>2.0</td>\n",
       "      <td>3.4</td>\n",
       "      <td>4.260</td>\n",
       "      <td>3.0</td>\n",
       "      <td>5.1</td>\n",
       "      <td>1.326</td>\n",
       "      <td>1.0</td>\n",
       "      <td>1.8</td>\n",
       "    </tr>\n",
       "    <tr>\n",
       "      <th>virginica</th>\n",
       "      <td>6.588</td>\n",
       "      <td>4.9</td>\n",
       "      <td>7.9</td>\n",
       "      <td>2.974</td>\n",
       "      <td>2.2</td>\n",
       "      <td>3.8</td>\n",
       "      <td>5.552</td>\n",
       "      <td>4.5</td>\n",
       "      <td>6.9</td>\n",
       "      <td>2.026</td>\n",
       "      <td>1.4</td>\n",
       "      <td>2.5</td>\n",
       "    </tr>\n",
       "  </tbody>\n",
       "</table>\n",
       "</div>"
      ],
      "text/plain": [
       "           sepal_length           sepal_width           petal_length       \\\n",
       "                   mean  min  max        mean  min  max         mean  min   \n",
       "species                                                                     \n",
       "setosa            5.006  4.3  5.8       3.418  2.3  4.4        1.464  1.0   \n",
       "versicolor        5.936  4.9  7.0       2.770  2.0  3.4        4.260  3.0   \n",
       "virginica         6.588  4.9  7.9       2.974  2.2  3.8        5.552  4.5   \n",
       "\n",
       "                petal_width            \n",
       "            max        mean  min  max  \n",
       "species                                \n",
       "setosa      1.9       0.244  0.1  0.6  \n",
       "versicolor  5.1       1.326  1.0  1.8  \n",
       "virginica   6.9       2.026  1.4  2.5  "
      ]
     },
     "execution_count": 7,
     "metadata": {},
     "output_type": "execute_result"
    }
   ],
   "source": [
    "iris = pd.read_csv('http://goo.gl/3b3439')\n",
    "iris.groupby('species')[['sepal_length', 'sepal_width', 'petal_length', 'petal_width']].agg(['mean','min','max'])"
   ]
  },
  {
   "cell_type": "code",
   "execution_count": 8,
   "metadata": {},
   "outputs": [
    {
     "data": {
      "text/plain": [
       "0.2439999999999999"
      ]
     },
     "execution_count": 8,
     "metadata": {},
     "output_type": "execute_result"
    }
   ],
   "source": [
    "iris.loc[iris['petal_length']<iris['sepal_width'], 'petal_width'].mean()\n",
    "# iris.loc[iris['Petal.Length']<iris['Sepal.Width']]['Petal.Width']"
   ]
  },
  {
   "cell_type": "markdown",
   "metadata": {},
   "source": [
    "**3**. (10 points)\n",
    "\n",
    "Find the coordinates of the vector $\\pmatrix{1\\\\ 2 \\\\3}$ with respect to the eigenvectors of the following matrix.\n",
    "```\n",
    "array([[ 0.18673654,  0.20037016,  0.47406091],\n",
    "       [ 0.21715108,  0.44708353,  0.79204575],\n",
    "       [ 0.24299882,  0.51936745,  0.3061621 ]])\n",
    "```"
   ]
  },
  {
   "cell_type": "code",
   "execution_count": 9,
   "metadata": {},
   "outputs": [
    {
     "data": {
      "text/plain": [
       "array([[-3.82231978],\n",
       "       [ 0.03563019],\n",
       "       [ 1.30843022]])"
      ]
     },
     "execution_count": 9,
     "metadata": {},
     "output_type": "execute_result"
    }
   ],
   "source": [
    "mat = np.array([[ 0.18673654,  0.20037016,  0.47406091],\n",
    "       [ 0.21715108,  0.44708353,  0.79204575],\n",
    "       [ 0.24299882,  0.51936745,  0.3061621 ]])\n",
    "e,vec = la.eig(mat)\n",
    "e = np.real_if_close(e)\n",
    "y = np.array([1,2,3]).reshape(-1,1)\n",
    "x = la.solve(vec, y)\n",
    "x"
   ]
  },
  {
   "cell_type": "markdown",
   "metadata": {},
   "source": [
    "**4**.(20 points)\n",
    "\n",
    "Consider the following system of equations:\n",
    "\n",
    "$$\\begin{align*}\n",
    "2x_1& - x_2&    +x_x    &=& 6\\\\\n",
    "-x_1& +2x_2& -  x_3 &=& 2\\\\\n",
    " x_1   &  -x_2& + x_3 &=& 1\n",
    "\\end{align*}$$\n",
    "\n",
    "1. Consider the system in matrix form $Ax=b$ and define $A$, $b$ in numpy.\n",
    "2. Show that $A$ is positive-definite\n",
    "3. Use the appropriate matrix decomposition function in numpy and back-substitution to solve the system. Remember to use the structure of the problem to determine the appropriate decomposition.\n",
    "\n"
   ]
  },
  {
   "cell_type": "code",
   "execution_count": 10,
   "metadata": {
    "collapsed": true
   },
   "outputs": [],
   "source": [
    "A = np.array([\n",
    "    [2,-1,1],\n",
    "    [-1,2,-1],\n",
    "    [1,-1,1]]\n",
    ")\n",
    "b = np.array([6,2,1])[:,None]"
   ]
  },
  {
   "cell_type": "code",
   "execution_count": 11,
   "metadata": {},
   "outputs": [
    {
     "name": "stdout",
     "output_type": "stream",
     "text": [
      "True\n",
      "True\n"
     ]
    }
   ],
   "source": [
    "print(np.allclose(A,A.T))\n",
    "e = la.eigvalsh(A)\n",
    "print(np.all(e>0))"
   ]
  },
  {
   "cell_type": "code",
   "execution_count": 12,
   "metadata": {},
   "outputs": [
    {
     "data": {
      "text/plain": [
       "array([[ 5.],\n",
       "       [ 3.],\n",
       "       [-1.]])"
      ]
     },
     "execution_count": 12,
     "metadata": {},
     "output_type": "execute_result"
    }
   ],
   "source": [
    "# chofac = la.cho_factor(A)\n",
    "# x = la.cho_solve(chofac, b)\n",
    "Lt = la.cholesky(A)\n",
    "y = la.solve_triangular(Lt.T,b, lower=True)\n",
    "x = la.solve_triangular(Lt, y, lower=False)\n",
    "x"
   ]
  },
  {
   "cell_type": "markdown",
   "metadata": {},
   "source": [
    "**5**. (10 points)\n",
    "\n",
    "The `heart` dataframe at https://goo.gl/CbJwQM contains  information about the survival of patients on the waiting list for the Stanford heart transplant program.\n",
    "\n",
    "```\n",
    "       start, stop, event:  Entry and exit time and status for this interval of time \n",
    "       age:                 age-48 years                                             \n",
    "       year:                year of acceptance (in years after 1 Nov 1967)           \n",
    "       surgery:             prior bypass surgery 1=yes                               \n",
    "       transplant:          received transplant 1=yes                                \n",
    "       id:                  patient id  \n",
    "```\n",
    "\n",
    "Answer the following questions with respect to the `heart` data set:\n",
    "\n",
    "- Sort the data frame by age in descending order (oldest at top) without making a copy\n",
    "- How many patients received a transplant?\n",
    "- What is the average age for transplanted patients under the age of 70?\n",
    "- Find the mean and standard deviation of age for each value of the `transplant` variable."
   ]
  },
  {
   "cell_type": "code",
   "execution_count": 13,
   "metadata": {},
   "outputs": [],
   "source": [
    "df = pd.read_csv('https://goo.gl/CbJwQM')\n",
    "df_agesort = df.sort_values('age', axis=0, ascending=False)"
   ]
  },
  {
   "cell_type": "code",
   "execution_count": 14,
   "metadata": {},
   "outputs": [],
   "source": [
    "receive_trans = df.loc[df.transplant == 1,'id'].count()"
   ]
  },
  {
   "cell_type": "code",
   "execution_count": 15,
   "metadata": {},
   "outputs": [
    {
     "data": {
      "text/plain": [
       "46.03327083891319"
      ]
     },
     "execution_count": 15,
     "metadata": {},
     "output_type": "execute_result"
    }
   ],
   "source": [
    "df.loc[(df.transplant==1) & (df.age<22),'age'].mean()+48"
   ]
  },
  {
   "cell_type": "code",
   "execution_count": 16,
   "metadata": {},
   "outputs": [
    {
     "data": {
      "text/html": [
       "<div>\n",
       "<style>\n",
       "    .dataframe thead tr:only-child th {\n",
       "        text-align: right;\n",
       "    }\n",
       "\n",
       "    .dataframe thead th {\n",
       "        text-align: left;\n",
       "    }\n",
       "\n",
       "    .dataframe tbody tr th {\n",
       "        vertical-align: top;\n",
       "    }\n",
       "</style>\n",
       "<table border=\"1\" class=\"dataframe\">\n",
       "  <thead>\n",
       "    <tr style=\"text-align: right;\">\n",
       "      <th></th>\n",
       "      <th>mean</th>\n",
       "      <th>std</th>\n",
       "    </tr>\n",
       "    <tr>\n",
       "      <th>transplant</th>\n",
       "      <th></th>\n",
       "      <th></th>\n",
       "    </tr>\n",
       "  </thead>\n",
       "  <tbody>\n",
       "    <tr>\n",
       "      <th>0</th>\n",
       "      <td>45.169434</td>\n",
       "      <td>9.795042</td>\n",
       "    </tr>\n",
       "    <tr>\n",
       "      <th>1</th>\n",
       "      <td>46.033271</td>\n",
       "      <td>8.875709</td>\n",
       "    </tr>\n",
       "  </tbody>\n",
       "</table>\n",
       "</div>"
      ],
      "text/plain": [
       "                 mean       std\n",
       "transplant                     \n",
       "0           45.169434  9.795042\n",
       "1           46.033271  8.875709"
      ]
     },
     "execution_count": 16,
     "metadata": {},
     "output_type": "execute_result"
    }
   ],
   "source": [
    "df['true_age'] = df['age'] + 48\n",
    "df.groupby('transplant')['true_age'].agg(['mean','std'])"
   ]
  },
  {
   "cell_type": "markdown",
   "metadata": {},
   "source": [
    "**6**. (10 points)\n",
    "\n",
    "You are given the following DNA sequecne in FASTA format.\n",
    "\n",
    "```python\n",
    "dna = '''> A simulated DNA sequence.\n",
    "TTAGGCAGTAACCCCGCGATAGGTAGAGCACGCAATCGTCAAGGCGTGCGGTAGGGCTTCCGTGTCTTACCCAAAGAAAC\n",
    "GACGTAACGTTCCCCGGGCGGTTAAACCAAATCCACTTCACCAACGGCATAACGCGAAGCCCAAACTAAATCGCGCTCGA\n",
    "GCGGACGCACATTCGCTAGGCTGTGTAGGGGCAGTCTCCGTTAAGGACGATTACCACGTGATGGTAGTTCGCAACATTGG\n",
    "ACTGTCGGGAATTCCCGAAGGCACTTAAGCGGAGTCTTAGCGTACAGTAACGCAGTCCCGCGTGAACGACTGACAGATGA\n",
    "'''\n",
    "```\n",
    "\n",
    "* Remove the comment line and combine the 4 lines of nucleotide symbols into a single string\n",
    "* Count the frequency of all 16 two-letter combinations in the string. "
   ]
  },
  {
   "cell_type": "code",
   "execution_count": 17,
   "metadata": {},
   "outputs": [
    {
     "data": {
      "text/plain": [
       "{('A', 'A'): 26,\n",
       " ('A', 'C'): 25,\n",
       " ('A', 'G'): 22,\n",
       " ('A', 'T'): 11,\n",
       " ('C', 'A'): 21,\n",
       " ('C', 'C'): 20,\n",
       " ('C', 'G'): 33,\n",
       " ('C', 'T'): 12,\n",
       " ('G', 'A'): 19,\n",
       " ('G', 'C'): 24,\n",
       " ('G', 'G'): 22,\n",
       " ('G', 'T'): 23,\n",
       " ('T', 'A'): 19,\n",
       " ('T', 'C'): 17,\n",
       " ('T', 'G'): 11,\n",
       " ('T', 'T'): 14}"
      ]
     },
     "execution_count": 17,
     "metadata": {},
     "output_type": "execute_result"
    }
   ],
   "source": [
    "dna = '''> A simulated DNA sequence.\n",
    "TTAGGCAGTAACCCCGCGATAGGTAGAGCACGCAATCGTCAAGGCGTGCGGTAGGGCTTCCGTGTCTTACCCAAAGAAAC\n",
    "GACGTAACGTTCCCCGGGCGGTTAAACCAAATCCACTTCACCAACGGCATAACGCGAAGCCCAAACTAAATCGCGCTCGA\n",
    "GCGGACGCACATTCGCTAGGCTGTGTAGGGGCAGTCTCCGTTAAGGACGATTACCACGTGATGGTAGTTCGCAACATTGG\n",
    "ACTGTCGGGAATTCCCGAAGGCACTTAAGCGGAGTCTTAGCGTACAGTAACGCAGTCCCGCGTGAACGACTGACAGATGA\n",
    "'''\n",
    "dna = ''.join(dna.splitlines()[1:])\n",
    "# count = {}\n",
    "# for pair in zip(dna, dna[1:]):\n",
    "#     key = ''.join(pair)\n",
    "#     count[key] = count.get(key, 0) + 1\n",
    "# count\n",
    "\n",
    "# from collections import Counter\n",
    "# count = Counter(zip(dna, dna[1:]))\n",
    "# count\n",
    "\n",
    "import toolz as tz\n",
    "tz.frequencies(zip(dna, dna[1:]))"
   ]
  },
  {
   "cell_type": "markdown",
   "metadata": {},
   "source": [
    "**7**. (10 points)\n",
    "\n",
    "Write a `flatmap` function that works like `map` except that the function given takes a list and returns a list  of lists that is then flattened (4 points).\n",
    "\n",
    "In other words, `flatmap` takes two arguments, a function and a list (or other iterable), just like `map`. However the function given as the first argument takes a single argument and returns a list (or other iterable). In order to get a simple list back, we need to unravel the resulting list of lists, hence the flatten part.\n",
    "\n",
    "For example,\n",
    "\n",
    "```python\n",
    "flatmap(lambda x: x.split(), [\"hello world\", \"the quick dog\"])\n",
    "```\n",
    "\n",
    "should return\n",
    "\n",
    "```python\n",
    "[\"hello\", \"world\", \"the\", \"quick\", \"dog\"]\n",
    "```"
   ]
  },
  {
   "cell_type": "code",
   "execution_count": 18,
   "metadata": {},
   "outputs": [
    {
     "data": {
      "text/plain": [
       "['hello', 'world', 'the', 'quick', 'dog']"
      ]
     },
     "execution_count": 18,
     "metadata": {},
     "output_type": "execute_result"
    }
   ],
   "source": [
    "# import toolz.curried as c\n",
    "# def flatmap(func, args):\n",
    "#     return list(c.mapcat(func, args))\n",
    "\n",
    "# from functools import reduce\n",
    "# def flatmap(func, args):\n",
    "#     res = list(map(func, args))\n",
    "#     return reduce(lambda x,y: x+y, res)\n",
    "\n",
    "def flatmap(func,args):\n",
    "    return [ele for l in map(func,args) for ele in l]\n",
    "\n",
    "flatmap(lambda x: x.split(), [\"hello world\", \"the quick dog\"])"
   ]
  },
  {
   "cell_type": "markdown",
   "metadata": {},
   "source": [
    "**8**. (30 points)\n",
    "\n",
    "You are given the following set of data to fit a quadratic polynomial to\n",
    "\n",
    "```python\n",
    "x = np.arange(10)\n",
    "y = np.array([  1.58873597,   7.55101533,  10.71372171,   7.90123225,\n",
    "                -2.05877605, -12.40257359, -28.64568712, -46.39822281,\n",
    "                -68.15488905, -97.16032044])\n",
    "```\n",
    "\n",
    "- Find the least squares solution by using the normal equations $A^T A \\hat{x} = A^T y$. (5 points)\n",
    "\n",
    "- Write your own **gradient descent** optimization function to find the least squares solution for the coefficients $\\beta$ of a quadratic polynomial. Do **not** use a gradient descent algorithm from a package such as `scipy-optimize` or `scikit-learn`.  You can use a simple for loop - start with the parameters `beta = np.zeros(3)` with a learning rate $\\alpha = 0.0001$ and run for 100000 iterations. (15 points)\n",
    "\n",
    "- Plot the data together with the fitted polynomial. (10 points)\n",
    "\n"
   ]
  },
  {
   "cell_type": "code",
   "execution_count": 19,
   "metadata": {},
   "outputs": [
    {
     "data": {
      "text/plain": [
       "array([[-2.04118936],\n",
       "       [ 7.31478229],\n",
       "       [ 2.55079998]])"
      ]
     },
     "execution_count": 19,
     "metadata": {},
     "output_type": "execute_result"
    }
   ],
   "source": [
    "x = np.arange(10)\n",
    "A = np.c_[x**2, x, [1]*10]\n",
    "y = np.array([  1.58873597,   7.55101533,  10.71372171,   7.90123225,\n",
    "                -2.05877605, -12.40257359, -28.64568712, -46.39822281,\n",
    "                -68.15488905, -97.16032044]).reshape(-1,1)\n",
    "# beta,res,k,_ = la.lstsq(A,y)\n",
    "beta = la.solve(A.T@A, A.T@y)\n",
    "beta"
   ]
  },
  {
   "cell_type": "code",
   "execution_count": 20,
   "metadata": {},
   "outputs": [],
   "source": [
    "def gd(A, y, beta, alpha=1e-4, max_itr=int(1e5)):\n",
    "    for _ in range(max_itr):\n",
    "        grad = A.T @ (A@beta - y)\n",
    "        beta = beta - alpha * grad\n",
    "    return beta"
   ]
  },
  {
   "cell_type": "code",
   "execution_count": 21,
   "metadata": {},
   "outputs": [
    {
     "data": {
      "text/plain": [
       "array([[-2.04118932],\n",
       "       [ 7.31478187],\n",
       "       [ 2.55080089]])"
      ]
     },
     "execution_count": 21,
     "metadata": {},
     "output_type": "execute_result"
    }
   ],
   "source": [
    "beta = np.zeros(3).reshape(-1,1)\n",
    "beta = gd(A,y,beta)\n",
    "beta"
   ]
  },
  {
   "cell_type": "code",
   "execution_count": 22,
   "metadata": {},
   "outputs": [
    {
     "data": {
      "image/png": "[encoded data removed]",
      "text/plain": [
       "<matplotlib.figure.Figure at 0x11b9ec0f0>"
      ]
     },
     "metadata": {},
     "output_type": "display_data"
    }
   ],
   "source": [
    "plt.scatter(x, y, c='r')\n",
    "xp = np.linspace(0,9,100)\n",
    "yp = np.c_[xp**2, xp, [1]*100] @ beta\n",
    "plt.plot(xp, yp)\n",
    "pass"
   ]
  },
  {
   "cell_type": "markdown",
   "metadata": {},
   "source": [
    "**9**. (10  points)\n",
    "\n",
    "2. Using `scipy.optimize`, find the values of $x$ and $y$ that minimize $e^{x^2 + y^2}$ in the unconstrained case and in the presence of the constraint that $x + y = 3$. Use (1,1) as a starting guess."
   ]
  },
  {
   "cell_type": "code",
   "execution_count": 23,
   "metadata": {},
   "outputs": [
    {
     "data": {
      "text/plain": [
       "      fun: 1.0000000000000002\n",
       " hess_inv: array([[ 0.74999784, -0.25000216],\n",
       "       [-0.25000216,  0.74999784]])\n",
       "      jac: array([ 0.,  0.])\n",
       "  message: 'Optimization terminated successfully.'\n",
       "     nfev: 32\n",
       "      nit: 7\n",
       "     njev: 8\n",
       "   status: 0\n",
       "  success: True\n",
       "        x: array([ -8.03690050e-09,  -8.03690050e-09])"
      ]
     },
     "execution_count": 23,
     "metadata": {},
     "output_type": "execute_result"
    }
   ],
   "source": [
    "func = lambda x: np.exp(x[0]**2+x[1]**2)\n",
    "sln1 = opt.minimize(func, (1,1))\n",
    "sln1"
   ]
  },
  {
   "cell_type": "code",
   "execution_count": 24,
   "metadata": {},
   "outputs": [
    {
     "data": {
      "text/plain": [
       "     fun: 90.01713130056051\n",
       "     jac: array([ 270.05131435,  270.05148602])\n",
       " message: 'Optimization terminated successfully.'\n",
       "    nfev: 44\n",
       "     nit: 9\n",
       "    njev: 9\n",
       "  status: 0\n",
       " success: True\n",
       "       x: array([ 1.49999954,  1.50000046])"
      ]
     },
     "execution_count": 24,
     "metadata": {},
     "output_type": "execute_result"
    }
   ],
   "source": [
    "cons = {'type':'eq', 'fun': lambda x: x[0]+x[1]-3}\n",
    "sln2 = opt.minimize(func, (1,1), constraints=cons)\n",
    "sln2"
   ]
  },
  {
   "cell_type": "markdown",
   "metadata": {},
   "source": [
    "**10**. (10 points)\n",
    "\n",
    "Implement a Python function to find roots using the bisection method. Use it to find solutions to $x^3 + 4x^2 -3 = x$ between -4 and 1. Do not use the standard library `bisect` method - the idea is to develop the algorithm using only basic Python language constructs."
   ]
  },
  {
   "cell_type": "code",
   "execution_count": 25,
   "metadata": {},
   "outputs": [],
   "source": [
    "def bisect(x0, x1, func, tol=1e-10):\n",
    "    assert func(x0)*func(x1) < 0\n",
    "    while abs(x1-x0)>tol:\n",
    "        mid = (x0+x1)/2\n",
    "        if func(mid) == 0:\n",
    "            return mid\n",
    "        if func(mid)*func(x0)>0:\n",
    "            x0 = mid\n",
    "        else:\n",
    "            x1 = mid\n",
    "    return mid"
   ]
  },
  {
   "cell_type": "code",
   "execution_count": 26,
   "metadata": {},
   "outputs": [
    {
     "data": {
      "image/png": "[encoded data removed]",
      "text/plain": [
       "<matplotlib.figure.Figure at 0x11ba69438>"
      ]
     },
     "metadata": {},
     "output_type": "display_data"
    }
   ],
   "source": [
    "myfunc = lambda x: x**3+4*x**2-3    \n",
    "xp = np.linspace(-4,1,100)\n",
    "yp = myfunc(xp)\n",
    "plt.plot(xp,yp)\n",
    "plt.axhline(0,c='r')\n",
    "pass"
   ]
  },
  {
   "cell_type": "code",
   "execution_count": 27,
   "metadata": {},
   "outputs": [
    {
     "data": {
      "text/plain": [
       "(-3.791287847503554, -1.0, 0.7912878475035541)"
      ]
     },
     "execution_count": 27,
     "metadata": {},
     "output_type": "execute_result"
    }
   ],
   "source": [
    "x = bisect(-4,-3, myfunc), bisect(-2, 0, myfunc), bisect(0, 1, myfunc)\n",
    "x"
   ]
  },
  {
   "cell_type": "markdown",
   "metadata": {},
   "source": [
    "**11**. (10 points)\n",
    "\n",
    "Let $f(x)$ be a linear transformation of $\\mathbb{R}^3$ such that\n",
    "$$\\begin{eqnarray*}\n",
    "f(e_1) &=& (1,1,3)\\\\\n",
    "f(e_2) &=& (1,0,4)\\\\\n",
    "f(e_3) &=& (0,2,1)\n",
    "\\end{eqnarray*}$$\n",
    "\n",
    "* Find a matrix representation for $f$. \n",
    "* Compute the matrix representation for $f$ in the basis$$\\begin{eqnarray*}\n",
    "v_1 &=& (2,3,3)\\\\\n",
    "v_2 &=& (8,5,2)\\\\\n",
    "v_3 &=& (1,0,5)\n",
    "\\end{eqnarray*}$$"
   ]
  },
  {
   "cell_type": "code",
   "execution_count": 28,
   "metadata": {},
   "outputs": [
    {
     "name": "stdout",
     "output_type": "stream",
     "text": [
      "[[1 1 0]\n",
      " [1 0 2]\n",
      " [3 4 1]] \n",
      " [[ 3.59493671  4.56962025  5.48101266]\n",
      " [-0.55696203 -0.34177215 -1.08860759]\n",
      " [ 2.26582278  6.59493671 -1.25316456]]\n"
     ]
    }
   ],
   "source": [
    "f_mat_1 = np.c_[[1,1,3],[1,0,4],[0,2,1]]\n",
    "basis = np.c_[[2,3,3],[8,5,2],[1,0,5]]\n",
    "f_mat_2 = la.inv(basis) @ f_mat_1 @ basis\n",
    "print(f_mat_1, '\\n', f_mat_2)"
   ]
  },
  {
   "cell_type": "markdown",
   "metadata": {},
   "source": [
    "**12**. (10 points)\n",
    "\n",
    "A milkmaid is at point A and needs to get to point B. However, she also needs to fill a pail of water from the river en route from A to B. The equation of the river's path is shown in the figure below. What is the minimum distance she has to travel to do this?\n",
    "\n",
    "1. Solve using `scipy.optimize` and constrained minimization.\n",
    "2. Solve without using `scipy.optimize`. Hint: Use Lagrange \n",
    "\n",
    "![Milkmaid problem](data/milkmaid.png)"
   ]
  },
  {
   "cell_type": "code",
   "execution_count": 29,
   "metadata": {},
   "outputs": [
    {
     "data": {
      "text/plain": [
       "     fun: 10.79217912219221\n",
       "     jac: array([-0.49536657, -1.4438045 ])\n",
       " message: 'Optimization terminated successfully.'\n",
       "    nfev: 57\n",
       "     nit: 12\n",
       "    njev: 12\n",
       "  status: 0\n",
       " success: True\n",
       "       x: array([ 4.39881104,  1.85225968])"
      ]
     },
     "execution_count": 29,
     "metadata": {},
     "output_type": "execute_result"
    }
   ],
   "source": [
    "A = np.array([2,8])\n",
    "B = np.array([8,4])\n",
    "cons = {'type': 'eq', 'fun': lambda x: x[1] - 10.0/(1 + x[0])}\n",
    "# loss1 = lambda x: la.norm(x-A)+la.norm(x-B)\n",
    "# sln1 = opt.minimize(loss1, np.array([4,4]), constraints=cons)\n",
    "loss1 = lambda x,A,B: la.norm(x-A)+la.norm(x-B)\n",
    "sln1 = opt.minimize(loss1, np.array([4,2]), args=(A,B), constraints=cons)\n",
    "sln1"
   ]
  },
  {
   "cell_type": "markdown",
   "metadata": {},
   "source": [
    "**13**. (10 points)\n",
    "\n",
    "Given the set of vectors\n",
    "\n",
    "```\n",
    "v1 = np.array([1,2,3])\n",
    "v2 = np.array([2,4,7])\n",
    "v3 = np.array([1,0,1])\n",
    "```\n",
    "\n",
    "1. Calculate the pairwise Euclidean distance matrix \n",
    "2. Find an orthogonal basis for the space spanned by these vectors without using any functions from `numpy.linag` or `scipy.linalg` "
   ]
  },
  {
   "cell_type": "code",
   "execution_count": 30,
   "metadata": {},
   "outputs": [
    {
     "data": {
      "text/plain": [
       "array([[ 0.        ,  4.58257569,  2.82842712],\n",
       "       [ 4.58257569,  0.        ,  7.28010989],\n",
       "       [ 2.82842712,  7.28010989,  0.        ]])"
      ]
     },
     "execution_count": 30,
     "metadata": {},
     "output_type": "execute_result"
    }
   ],
   "source": [
    "vecs = np.c_[[1,2,3],[2,4,7],[1,0,1]]\n",
    "dist = np.sqrt(np.sum((vecs[...,None]-vecs[:,None])**2, axis=0))\n",
    "dist"
   ]
  },
  {
   "cell_type": "code",
   "execution_count": 31,
   "metadata": {},
   "outputs": [
    {
     "data": {
      "text/plain": [
       "array([[ 1.,  0.,  0.],\n",
       "       [ 0.,  1.,  0.],\n",
       "       [ 0.,  0.,  1.]])"
      ]
     },
     "execution_count": 31,
     "metadata": {},
     "output_type": "execute_result"
    }
   ],
   "source": [
    "np.eye(3)"
   ]
  },
  {
   "cell_type": "markdown",
   "metadata": {},
   "source": [
    "**14**. (10 points)\n",
    "\n",
    "Find the minimum of the following quadratic function on $\\mathbb{R}^4$ \n",
    "\n",
    "$$f(x) = x^TAx +b^Tx +c$$\n",
    "where\n",
    "$$A = \\left(\\begin{matrix}13&5&0&0\\\\5&7&0&0\\\\0&0&20&-7\\\\0&0&-7&12\\end{matrix}\\right), b = \\left(\\begin{matrix}1\\\\1\\\\1\\\\1\\end{matrix}\\right) \\textrm {and } c = 2$$\n",
    "\n",
    "and $x$ is a column vector.\n",
    "\n",
    "a. Using scipy.optimize (4 points)\n",
    "\n",
    "b. Using a matrix decomposition method (library functions - no need to code your own).  Note: for full credit you should exploit matrix structure. (4 points)\n",
    "\n",
    "c. Find the minimum under the constraint $||x||^2 = 1$ (i.e. on the unit sphere in $\\mathbb{R}^4$). (2 points)\n",
    "\n",
    "**Note: Do not be overly concerned if your values for $x$ at the minimum do not match exactly **\n",
    "\n"
   ]
  },
  {
   "cell_type": "code",
   "execution_count": 32,
   "metadata": {},
   "outputs": [
    {
     "data": {
      "text/plain": [
       "      fun: 1.9019117880374437\n",
       " hess_inv: array([[ 0.2212562 , -0.4035126 ,  0.07392347,  0.07970686],\n",
       "       [-0.4035126 ,  0.89317869, -0.16067039, -0.1732404 ],\n",
       "       [ 0.07392347, -0.16067039,  0.06389779,  0.05335018],\n",
       "       [ 0.07970686, -0.1732404 ,  0.05335018,  0.09012181]])\n",
       "      jac: array([  5.96046448e-08,  -1.49011612e-08,   1.49011612e-07,\n",
       "         1.04308128e-07])\n",
       "  message: 'Optimization terminated successfully.'\n",
       "     nfev: 54\n",
       "      nit: 4\n",
       "     njev: 9\n",
       "   status: 0\n",
       "  success: True\n",
       "        x: array([-0.01515152, -0.06060607, -0.04973823, -0.07068063])"
      ]
     },
     "execution_count": 32,
     "metadata": {},
     "output_type": "execute_result"
    }
   ],
   "source": [
    "A = np.array([[13,5,0,0],[5,7,0,0],[0,0,20,-7],[0,0,-7,12]])\n",
    "b = np.ones([4,1])\n",
    "c = 2\n",
    "loss = lambda x,A,b,c: x.T@A@x + b.T@x+ c\n",
    "sln1 = opt.minimize(loss, np.zeros([4,1]), args=(A,b,c))\n",
    "sln1"
   ]
  },
  {
   "cell_type": "code",
   "execution_count": 33,
   "metadata": {},
   "outputs": [
    {
     "data": {
      "text/plain": [
       "array([[-0.01515152],\n",
       "       [-0.06060606],\n",
       "       [-0.04973822],\n",
       "       [-0.07068063]])"
      ]
     },
     "execution_count": 33,
     "metadata": {},
     "output_type": "execute_result"
    }
   ],
   "source": [
    "sln2 = la.cho_solve(la.cho_factor(A), -b/2)\n",
    "sln2"
   ]
  },
  {
   "cell_type": "code",
   "execution_count": 34,
   "metadata": {},
   "outputs": [
    {
     "data": {
      "text/plain": [
       "     fun: 6.376291838669899\n",
       "     jac: array([-4.49080557,  7.32257348, -0.67237061, -1.11864173])\n",
       " message: 'Optimization terminated successfully.'\n",
       "    nfev: 231\n",
       "     nit: 30\n",
       "    njev: 30\n",
       "  status: 0\n",
       " success: True\n",
       "       x: array([-0.53067051,  0.83066275, -0.09135849, -0.1415692 ])"
      ]
     },
     "execution_count": 34,
     "metadata": {},
     "output_type": "execute_result"
    }
   ],
   "source": [
    "cons = {'type':'eq', 'fun': lambda x: la.norm(x)-1}\n",
    "sln3 = opt.minimize(loss, np.zeros([4,1]), args=(A,b,c), constraints=cons)\n",
    "sln3"
   ]
  },
  {
   "cell_type": "markdown",
   "metadata": {},
   "source": [
    "**15**. (10 points)\n",
    "\n",
    "Given the following covariance matrix\n",
    "```python\n",
    "A = np.array([[2,1],[1,4]])\n",
    "```\n",
    "\n",
    "1. Show that the eigenvectors of $A$ are orthogonal.\n",
    "2. What is the vector representing the first principal component direction?\n",
    "3. Find $A^{-1}$ without performing a matrix inversion.\n",
    "4. What are the coordinates of the data points (0, 1) and (1, 1) in the standard basis expressed as coordinates of the principal components?\n",
    "5. What is the proportion of variance explained if we keep only the projection onto the first principal component?"
   ]
  },
  {
   "cell_type": "code",
   "execution_count": 35,
   "metadata": {},
   "outputs": [
    {
     "data": {
      "text/plain": [
       "array([[ 1.,  0.],\n",
       "       [ 0.,  1.]])"
      ]
     },
     "execution_count": 35,
     "metadata": {},
     "output_type": "execute_result"
    }
   ],
   "source": [
    "A = np.array([[2,1],[1,4]])\n",
    "e,vec = la.eigh(A)\n",
    "np.round(vec.T@vec, 10)"
   ]
  },
  {
   "cell_type": "code",
   "execution_count": 36,
   "metadata": {},
   "outputs": [
    {
     "data": {
      "text/plain": [
       "array([ 0.38268343,  0.92387953])"
      ]
     },
     "execution_count": 36,
     "metadata": {},
     "output_type": "execute_result"
    }
   ],
   "source": [
    "first = vec[:,-1]\n",
    "first"
   ]
  },
  {
   "cell_type": "code",
   "execution_count": 37,
   "metadata": {},
   "outputs": [
    {
     "data": {
      "text/plain": [
       "True"
      ]
     },
     "execution_count": 37,
     "metadata": {},
     "output_type": "execute_result"
    }
   ],
   "source": [
    "np.allclose(la.inv(A), (1/e)*vec@vec.T)"
   ]
  },
  {
   "cell_type": "code",
   "execution_count": 38,
   "metadata": {},
   "outputs": [
    {
     "data": {
      "text/plain": [
       "array([[ 0.38268343, -0.5411961 ],\n",
       "       [ 0.92387953,  1.30656296]])"
      ]
     },
     "execution_count": 38,
     "metadata": {},
     "output_type": "execute_result"
    }
   ],
   "source": [
    "vec.T@np.c_[[0,1],[1,1]]"
   ]
  },
  {
   "cell_type": "code",
   "execution_count": 39,
   "metadata": {},
   "outputs": [
    {
     "data": {
      "text/plain": [
       "0.73570226039551578"
      ]
     },
     "execution_count": 39,
     "metadata": {},
     "output_type": "execute_result"
    }
   ],
   "source": [
    "e[1]/np.sum(e)"
   ]
  },
  {
   "cell_type": "markdown",
   "metadata": {},
   "source": [
    "**16**. (10 points)\n",
    "\n",
    "Find the minimum of the following quadratic function on $\\mathbb{R}^2$ \n",
    "\n",
    "$$f(x) = x^TAx +b^Tx +c$$\n",
    "where\n",
    "$$A = \\left(\\begin{matrix}13&5\\\\5&7\\end{matrix}\\right), b = \\left(\\begin{matrix}1\\\\1\\end{matrix}\\right) \\textrm {and } c = 2$$\n",
    "\n",
    "Under the constraints:\n",
    "$$g(x) = 2x_1-5x_2=2 \\;\\;\\;\\;\\;\\; \\textrm{ and } \\;\\;\\;\\;\\;\\; h(x) = x_1+x_2=1$$\n",
    "\n",
    "1. Use a matrix decomposition method to find the minimum of the *unconstrained* problem without using `scipy.optimize` (Use library functions - no need to code your own). Note: for full credit you should exploit matrix structure. (3 points)\n",
    "2. Find the solution using constrained optimization with the `scipy.optimize` package. (3 points)\n",
    "2. Use Lagrange multipliers and solving the resulting set of equations directly without using `scipy.optimize`. (4 points)"
   ]
  },
  {
   "cell_type": "code",
   "execution_count": 40,
   "metadata": {},
   "outputs": [
    {
     "data": {
      "text/plain": [
       "array([[-0.01515152],\n",
       "       [-0.06060606]])"
      ]
     },
     "execution_count": 40,
     "metadata": {},
     "output_type": "execute_result"
    }
   ],
   "source": [
    "A = np.array([[13,5],[5,7]])\n",
    "b = np.ones([2,1])\n",
    "c = 2\n",
    "sln = la.cho_solve(la.cho_factor(A), -b/2)\n",
    "sln"
   ]
  },
  {
   "cell_type": "code",
   "execution_count": 41,
   "metadata": {},
   "outputs": [
    {
     "data": {
      "text/plain": [
       "     fun: 2.3967991181366597\n",
       "     jac: array([ 1.00638485, -2.51667985])\n",
       " message: 'Optimization terminated successfully.'\n",
       "    nfev: 19\n",
       "     nit: 4\n",
       "    njev: 4\n",
       "  status: 0\n",
       " success: True\n",
       "       x: array([ 0.13354616, -0.34658154])"
      ]
     },
     "execution_count": 41,
     "metadata": {},
     "output_type": "execute_result"
    }
   ],
   "source": [
    "loss = lambda x,A,b,c: x.T@A@x+b.T@x+c\n",
    "cons1 = {'type':'eq', 'fun': lambda x: 2*x[0]-5*x[1]-2}\n",
    "cons2 = {'type':'eq', 'fun': lambda x: x.sum()-1}\n",
    "sln1 = opt.minimize(loss, np.zeros([2,1]), args=(A,b,c), constraints=cons1)\n",
    "sln1"
   ]
  },
  {
   "cell_type": "code",
   "execution_count": 42,
   "metadata": {},
   "outputs": [
    {
     "data": {
      "text/plain": [
       "     fun: 9.599999999999998\n",
       "     jac: array([ 14.20000029,  14.20000017])\n",
       " message: 'Optimization terminated successfully.'\n",
       "    nfev: 27\n",
       "     nit: 6\n",
       "    njev: 6\n",
       "  status: 0\n",
       " success: True\n",
       "       x: array([ 0.2,  0.8])"
      ]
     },
     "execution_count": 42,
     "metadata": {},
     "output_type": "execute_result"
    }
   ],
   "source": [
    "sln2 = opt.minimize(loss, np.zeros([2,1]), args=(A,b,c), constraints=cons2)\n",
    "sln2"
   ]
  },
  {
   "cell_type": "code",
   "execution_count": 43,
   "metadata": {},
   "outputs": [
    {
     "name": "stdout",
     "output_type": "stream",
     "text": [
      "[[ 0.13355408]\n",
      " [-0.34657837]] [-0.50331126]\n"
     ]
    }
   ],
   "source": [
    "aug_A = np.r_[np.c_[2*A,[2,-5]], [[2,-5,0]]]\n",
    "aug_b = np.r_[-b, [[2]]]\n",
    "res = la.solve(aug_A, aug_b)\n",
    "sln3, lm = res[:2], res[-1]\n",
    "print(sln3, lm)"
   ]
  }
 ],
 "metadata": {
  "kernelspec": {
   "display_name": "Python 3",
   "language": "python",
   "name": "python3"
  },
  "language_info": {
   "codemirror_mode": {
    "name": "ipython",
    "version": 3
   },
   "file_extension": ".py",
   "mimetype": "text/x-python",
   "name": "python",
   "nbconvert_exporter": "python",
   "pygments_lexer": "ipython3",
   "version": "3.6.3"
  }
 },
 "nbformat": 4,
 "nbformat_minor": 2
}
