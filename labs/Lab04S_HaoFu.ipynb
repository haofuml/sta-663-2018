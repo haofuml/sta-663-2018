{
 "cells": [
  {
   "cell_type": "markdown",
   "metadata": {},
   "source": [
    "# Supplementary Practice Problems\n",
    "\n",
    "These are similar to programming problems you may encounter in the mid-terms. They are not graded but we will review them in lab sessions."
   ]
  },
  {
   "cell_type": "markdown",
   "metadata": {},
   "source": [
    "**1**. (10 points) Normalize the $3 \\times 4$ diagonal matrix with diagonal (1, ,2, 3) so all rows have mean 0 and standard deviation 1. The matrix has 0 everywhere not on the diagonal."
   ]
  },
  {
   "cell_type": "code",
   "execution_count": 1,
   "metadata": {},
   "outputs": [
    {
     "data": {
      "text/plain": [
       "array([[ 1.73205081, -0.57735027, -0.57735027, -0.57735027],\n",
       "       [-0.57735027,  1.73205081, -0.57735027, -0.57735027],\n",
       "       [-0.57735027, -0.57735027,  1.73205081, -0.57735027]])"
      ]
     },
     "execution_count": 1,
     "metadata": {},
     "output_type": "execute_result"
    }
   ],
   "source": [
    "import numpy as np\n",
    "M = np.concatenate([np.diag([1,2,3]),np.zeros((3,1))], axis=1)\n",
    "# M = np.c_[np.diag([1,2,3]), [0]*3]\n",
    "(M - M.mean(axis=1)[:,None]) / M.std(axis=1)[:,None]"
   ]
  },
  {
   "cell_type": "markdown",
   "metadata": {},
   "source": [
    "**2**. (10 points) A fixed point of a funciton is a value that remains the same when the funciton is applied to it, that is $f(x) = x$. Write a function that finds the fixed poitn of another function $f$ given an intiial value $x_0$. For example, if\n",
    "\n",
    "$$f(x) \\rightarrow \\sqrt{x}$$\n",
    "\n",
    "and \n",
    "\n",
    "$x_0$ is any positive real number, then the function should return 1 since\n",
    "\n",
    "$$\\sqrt{1} = 1$$\n",
    "\n",
    "Not all funcitons have a fixed point - if it taakes over 1,000 iterations, the fucntion shold return None.\n",
    "\n",
    "- Use the function signature `fixed_point(f, x0, max_iter=1000)`. \n",
    "- Test with `fixed_point(np.sqrt, 10)`."
   ]
  },
  {
   "cell_type": "code",
   "execution_count": 2,
   "metadata": {},
   "outputs": [
    {
     "data": {
      "text/plain": [
       "1.0"
      ]
     },
     "execution_count": 2,
     "metadata": {},
     "output_type": "execute_result"
    }
   ],
   "source": [
    "def fixed_point(f, x0, max_iter=1000):\n",
    "    eps = 1e-20\n",
    "    for i in range(max_iter):\n",
    "        tmp = f(x0)\n",
    "        if np.abs(tmp-x0)<=eps:\n",
    "            return x0\n",
    "        x0 = tmp\n",
    "    return None\n",
    "    \n",
    "fixed_point(np.sqrt, 10)"
   ]
  },
  {
   "cell_type": "markdown",
   "metadata": {},
   "source": [
    "**3**. (10 points) Use `np.fromfunction` to construc the following matrices\n",
    "\n",
    "```python\n",
    "array([[5, 0, 0, 0, 5],\n",
    "       [0, 4, 0, 4, 0],\n",
    "       [0, 0, 3, 0, 0],\n",
    "       [0, 2, 0, 2, 0],\n",
    "       [1, 0, 0, 0, 1]])\n",
    "```\n",
    "\n",
    "```python\n",
    "array([[0, 1, 0, 0, 0, 0],\n",
    "       [1, 0, 1, 0, 0, 0],\n",
    "       [0, 1, 0, 1, 0, 0],\n",
    "       [0, 0, 1, 0, 1, 0],\n",
    "       [0, 0, 0, 1, 0, 1],\n",
    "       [0, 0, 0, 0, 1, 0]])\n",
    "```\n",
    "\n",
    "```python\n",
    "array([[6, 5, 4, 3, 4, 5, 6],\n",
    "       [5, 4, 3, 2, 3, 4, 5],\n",
    "       [4, 3, 2, 1, 2, 3, 4],\n",
    "       [3, 2, 1, 0, 1, 2, 3],\n",
    "       [4, 3, 2, 1, 2, 3, 4],\n",
    "       [5, 4, 3, 2, 3, 4, 5],\n",
    "       [6, 5, 4, 3, 4, 5, 6]])\n",
    "```"
   ]
  },
  {
   "cell_type": "code",
   "execution_count": 3,
   "metadata": {},
   "outputs": [
    {
     "data": {
      "text/plain": [
       "array([[5, 0, 0, 0, 5],\n",
       "       [0, 4, 0, 4, 0],\n",
       "       [0, 0, 3, 0, 0],\n",
       "       [0, 2, 0, 2, 0],\n",
       "       [1, 0, 0, 0, 1]])"
      ]
     },
     "execution_count": 3,
     "metadata": {},
     "output_type": "execute_result"
    }
   ],
   "source": [
    "np.fromfunction(lambda i,j: np.where((i==j) | (i+j==4), 5-i, 0), (5,5), dtype='int')"
   ]
  },
  {
   "cell_type": "code",
   "execution_count": 4,
   "metadata": {},
   "outputs": [
    {
     "data": {
      "text/plain": [
       "array([[0, 1, 0, 0, 0, 0],\n",
       "       [1, 0, 1, 0, 0, 0],\n",
       "       [0, 1, 0, 1, 0, 0],\n",
       "       [0, 0, 1, 0, 1, 0],\n",
       "       [0, 0, 0, 1, 0, 1],\n",
       "       [0, 0, 0, 0, 1, 0]])"
      ]
     },
     "execution_count": 4,
     "metadata": {},
     "output_type": "execute_result"
    }
   ],
   "source": [
    "np.fromfunction(lambda i,j: np.where( np.abs(i-j)==1, 1, 0), (6,6), dtype='int')"
   ]
  },
  {
   "cell_type": "code",
   "execution_count": 5,
   "metadata": {},
   "outputs": [
    {
     "data": {
      "text/plain": [
       "array([[6, 5, 4, 3, 4, 5, 6],\n",
       "       [5, 4, 3, 2, 3, 4, 5],\n",
       "       [4, 3, 2, 1, 2, 3, 4],\n",
       "       [3, 2, 1, 0, 1, 2, 3],\n",
       "       [4, 3, 2, 1, 2, 3, 4],\n",
       "       [5, 4, 3, 2, 3, 4, 5],\n",
       "       [6, 5, 4, 3, 4, 5, 6]])"
      ]
     },
     "execution_count": 5,
     "metadata": {},
     "output_type": "execute_result"
    }
   ],
   "source": [
    "np.fromfunction(lambda i,j: np.abs(i-3)+np.abs(j-3), (7,7),dtype='int')"
   ]
  },
  {
   "cell_type": "markdown",
   "metadata": {},
   "source": [
    "**4**. (10 points) Read the `mtcars` data frame from R to a `pandas` DataFrame. Find the mean `wt` and `mpg` for all cars grouped by the number of `gear`s."
   ]
  },
  {
   "cell_type": "code",
   "execution_count": 6,
   "metadata": {},
   "outputs": [
    {
     "data": {
      "text/html": [
       "<div>\n",
       "<style>\n",
       "    .dataframe thead tr:only-child th {\n",
       "        text-align: right;\n",
       "    }\n",
       "\n",
       "    .dataframe thead th {\n",
       "        text-align: left;\n",
       "    }\n",
       "\n",
       "    .dataframe tbody tr th {\n",
       "        vertical-align: top;\n",
       "    }\n",
       "</style>\n",
       "<table border=\"1\" class=\"dataframe\">\n",
       "  <thead>\n",
       "    <tr style=\"text-align: right;\">\n",
       "      <th></th>\n",
       "      <th>wt</th>\n",
       "      <th>mpg</th>\n",
       "    </tr>\n",
       "    <tr>\n",
       "      <th>gear</th>\n",
       "      <th></th>\n",
       "      <th></th>\n",
       "    </tr>\n",
       "  </thead>\n",
       "  <tbody>\n",
       "    <tr>\n",
       "      <th>3.0</th>\n",
       "      <td>3.892600</td>\n",
       "      <td>16.106667</td>\n",
       "    </tr>\n",
       "    <tr>\n",
       "      <th>4.0</th>\n",
       "      <td>2.616667</td>\n",
       "      <td>24.533333</td>\n",
       "    </tr>\n",
       "    <tr>\n",
       "      <th>5.0</th>\n",
       "      <td>2.632600</td>\n",
       "      <td>21.380000</td>\n",
       "    </tr>\n",
       "  </tbody>\n",
       "</table>\n",
       "</div>"
      ],
      "text/plain": [
       "            wt        mpg\n",
       "gear                     \n",
       "3.0   3.892600  16.106667\n",
       "4.0   2.616667  24.533333\n",
       "5.0   2.632600  21.380000"
      ]
     },
     "execution_count": 6,
     "metadata": {},
     "output_type": "execute_result"
    }
   ],
   "source": [
    "import pandas as pd\n",
    "%load_ext rpy2.ipython\n",
    "%R -o mtcars\n",
    "mtcars.groupby('gear')[['wt', 'mpg']].agg('mean')\n",
    "# mtcars.groupby('gear')[['wt','mpg']].mean()"
   ]
  },
  {
   "cell_type": "markdown",
   "metadata": {},
   "source": [
    "**5**. (10 points) The QQ (Quirkiness Quotient) has a normal distribution with $\\mu$ = 100 and $\\sigma$ = 20. If your QQ is at the 92nd percentile, what is your QQ? \n",
    "\n",
    "- Solve this analytically using some distribution function\n",
    "- Solve this using a simulation of 1,000,000 people\n",
    "- Plot the QQ PDF for QQs between 40 and 160 as a blue curve, shading the region below your QQ in blue with 50% transparency."
   ]
  },
  {
   "cell_type": "code",
   "execution_count": 7,
   "metadata": {},
   "outputs": [
    {
     "data": {
      "text/plain": [
       "128.10143120619267"
      ]
     },
     "execution_count": 7,
     "metadata": {},
     "output_type": "execute_result"
    }
   ],
   "source": [
    "from scipy.stats import norm\n",
    "mu, sigma = 100, 20\n",
    "dist = norm(mu, sigma)\n",
    "dist.ppf(0.92)"
   ]
  },
  {
   "cell_type": "code",
   "execution_count": 8,
   "metadata": {},
   "outputs": [
    {
     "data": {
      "text/plain": [
       "128.15206755634262"
      ]
     },
     "execution_count": 8,
     "metadata": {},
     "output_type": "execute_result"
    }
   ],
   "source": [
    "n = int(1e6)\n",
    "sample = dist.rvs(n)\n",
    "myqq = np.sort(sample)[int(n*0.92)]\n",
    "myqq"
   ]
  },
  {
   "cell_type": "code",
   "execution_count": 9,
   "metadata": {},
   "outputs": [
    {
     "data": {
      "image/png": "[encoded data removed]",
      "text/plain": [
       "<matplotlib.figure.Figure at 0x1912ffff60>"
      ]
     },
     "metadata": {},
     "output_type": "display_data"
    }
   ],
   "source": [
    "%matplotlib inline\n",
    "import matplotlib.pyplot as plt\n",
    "x = np.linspace(40, 160, 100)\n",
    "prob = dist.pdf(x)\n",
    "plt.plot(x, prob, 'b')\n",
    "x = np.linspace(40, myqq, 100)\n",
    "plt.fill_between(x, dist.pdf(x), 'b', alpha=0.5)\n",
    "pass"
   ]
  },
  {
   "cell_type": "markdown",
   "metadata": {},
   "source": [
    "**6**. (10 points) Simulate $n$ coin toss experiments, in which you toss a coin $k$ times for each experiment. Find the maximum run length of heads (e.g. the sequence `T,T,H,H,H,T,H,H` has a maximum run length of 3 heads in each experiment. "
   ]
  },
  {
   "cell_type": "code",
   "execution_count": 10,
   "metadata": {},
   "outputs": [
    {
     "data": {
      "text/plain": [
       "9"
      ]
     },
     "execution_count": 10,
     "metadata": {},
     "output_type": "execute_result"
    }
   ],
   "source": [
    "import re\n",
    "n,k = 100, 10\n",
    "data = np.random.choice(['H','T'], (n,k))\n",
    "max_len = []\n",
    "for i in range(n):\n",
    "    seq = ''.join(data[i])\n",
    "    longest = max(re.findall(r'H+', seq), key=len)\n",
    "    max_len.append(len(longest))\n",
    "max(max_len)"
   ]
  },
  {
   "cell_type": "code",
   "execution_count": 11,
   "metadata": {},
   "outputs": [
    {
     "data": {
      "text/plain": [
       "8"
      ]
     },
     "execution_count": 11,
     "metadata": {},
     "output_type": "execute_result"
    }
   ],
   "source": [
    "n,k = 100, 10\n",
    "max_len = 0\n",
    "for i in range(n):\n",
    "    len_i = 0\n",
    "    for j in range(k):\n",
    "        s = np.random.randint(2) # head->1,tail->0\n",
    "        if s==1:\n",
    "            len_i += 1\n",
    "        else:\n",
    "            max_len = max(max_len, len_i)\n",
    "            len_i = 0\n",
    "    max_len = max(max_len, len_i)\n",
    "max_len"
   ]
  },
  {
   "cell_type": "markdown",
   "metadata": {},
   "source": [
    "**7**. (10 points) Use the DNA sequence given below to answer these questions:\n",
    "\n",
    "- Generate all sequences formed using a shifting window of size 3 and print the sequence with the highest count. If there are ties, print all the tied sequences. Do not use any import statement."
   ]
  },
  {
   "cell_type": "code",
   "execution_count": 12,
   "metadata": {
    "collapsed": true
   },
   "outputs": [],
   "source": [
    "dna = '''\n",
    "TCGGATGATTGCACTTATTCTCCGTTTGTTTGTGTGTTGCTGGGGGGGGACGCCTGCACGCTGTTCCAGTGCGTCGTCGT\n",
    "ATCTTGGTTTGCCTCGGGGGGTGGGGCTGGAGCCTACCAGGTGTCGGTCGGATGTTTTGTCTCTGTGTGTCGAGGGTCGT\n",
    "GTGGAGTCCCGGCGGGTGGGTGCTGCTGGGTGGTTGACACAGTGCGTGGTGGGTGCTTCAGCGGGGGGTGCCTCGCGCGT\n",
    "GGCTGGGGTGTTGTAGTTGTCGTTTGGAAAGTGTGCGGCATAGGGGGGATGAAATCCGGTTGACCAAGATTCGGGTCGCG\n",
    "TTTGGGGATTAGGATAGTTGGGTTTGGAAGGCGCGGGTATTGCCCACGTTCTTTGGCGGGGCGAGGGTGTTGGTACTCCA\n",
    "TGTCCAGGCCGCTTGCCTACGGACTGTAGAGGTTCGGGAGGCGCTGGCCGGCGTGTGTTCCCTAGGTTTTGAGATAAGAG\n",
    "'''"
   ]
  },
  {
   "cell_type": "code",
   "execution_count": 13,
   "metadata": {},
   "outputs": [
    {
     "data": {
      "text/plain": [
       "('GGG', 36)"
      ]
     },
     "execution_count": 13,
     "metadata": {},
     "output_type": "execute_result"
    }
   ],
   "source": [
    "dna = dna.strip()\n",
    "pairs = zip(dna,dna[1:],dna[2:])\n",
    "count = {}\n",
    "for p in pairs:\n",
    "    key = ''.join(p)\n",
    "#     key = p\n",
    "    count[key] = count.get(key, 0) + 1\n",
    "max(count.items(), key=lambda x: x[1])"
   ]
  },
  {
   "cell_type": "markdown",
   "metadata": {},
   "source": [
    "**8**. (10 points) Ignore spaces, case and punctuation when finding palindromes. Write code to find the palindromes among the 12 phrases below, returning the phrases that are palindromes in a list.\n",
    "\n",
    "```\n",
    "Daedalus: nine. Peninsula: dead.\n",
    "Dammit, I'm mad!\n",
    "Deliver me from evil.\n",
    "Dennis and Edna sinned.\n",
    "Devil never even lived.\n",
    "Deviled eggs sure taste good.\n",
    "Did Hannah see bees? Hannah did.\n",
    "Do geese see God?\n",
    "Do mice see God?\n",
    "Dogma: I am God\n",
    "Dogma: DNA makdes RNA makes protein.\n",
    "Dubya won? No way, bud.\n",
    "```"
   ]
  },
  {
   "cell_type": "code",
   "execution_count": 14,
   "metadata": {},
   "outputs": [],
   "source": [
    "paragraph ='''Daedalus: nine. Peninsula: dead.\n",
    "Dammit, I'm mad!\n",
    "Deliver me from evil.\n",
    "Dennis and Edna sinned.\n",
    "Devil never even lived.\n",
    "Deviled eggs sure taste good.\n",
    "Did Hannah see bees? Hannah did.\n",
    "Do geese see God?\n",
    "Do mice see God?\n",
    "Dogma: I am God\n",
    "Dogma: DNA makdes RNA makes protein.\n",
    "Dubya won? No way, bud.'''"
   ]
  },
  {
   "cell_type": "code",
   "execution_count": 15,
   "metadata": {},
   "outputs": [
    {
     "data": {
      "text/plain": [
       "['Daedalus: nine. Peninsula: dead.',\n",
       " \"Dammit, I'm mad!\",\n",
       " 'Dennis and Edna sinned.',\n",
       " 'Devil never even lived.',\n",
       " 'Did Hannah see bees? Hannah did.',\n",
       " 'Do geese see God?',\n",
       " 'Dogma: I am God',\n",
       " 'Dubya won? No way, bud.']"
      ]
     },
     "execution_count": 15,
     "metadata": {},
     "output_type": "execute_result"
    }
   ],
   "source": [
    "import string\n",
    "lines = paragraph.splitlines()\n",
    "tr = str.maketrans(string.ascii_uppercase, string.ascii_lowercase, string.punctuation+string.whitespace)\n",
    "pl = []\n",
    "for line in lines:\n",
    "    tmp = line.translate(tr)\n",
    "    if tmp == tmp[::-1]:\n",
    "        pl.append(line)\n",
    "pl"
   ]
  },
  {
   "cell_type": "code",
   "execution_count": 16,
   "metadata": {},
   "outputs": [
    {
     "data": {
      "text/plain": [
       "['Daedalus: nine. Peninsula: dead.',\n",
       " \"Dammit, I'm mad!\",\n",
       " 'Dennis and Edna sinned.',\n",
       " 'Devil never even lived.',\n",
       " 'Did Hannah see bees? Hannah did.',\n",
       " 'Do geese see God?',\n",
       " 'Dogma: I am God',\n",
       " 'Dubya won? No way, bud.']"
      ]
     },
     "execution_count": 16,
     "metadata": {},
     "output_type": "execute_result"
    }
   ],
   "source": [
    "import toolz as tz\n",
    "import toolz.curried as c\n",
    "index=tz.pipe(\n",
    "    paragraph.splitlines(),\n",
    "    c.map(lambda s: s.translate(str.maketrans(string.ascii_uppercase,string.ascii_lowercase,\n",
    "                                              string.punctuation+string.whitespace))),\n",
    "    c.map(lambda s: s==s[::-1]),\n",
    "    list\n",
    ")\n",
    "[line for i,line in enumerate(paragraph.splitlines()) if index[i]]"
   ]
  },
  {
   "cell_type": "code",
   "execution_count": null,
   "metadata": {
    "collapsed": true
   },
   "outputs": [],
   "source": []
  }
 ],
 "metadata": {
  "kernelspec": {
   "display_name": "Python 3",
   "language": "python",
   "name": "python3"
  },
  "language_info": {
   "codemirror_mode": {
    "name": "ipython",
    "version": 3
   },
   "file_extension": ".py",
   "mimetype": "text/x-python",
   "name": "python",
   "nbconvert_exporter": "python",
   "pygments_lexer": "ipython3",
   "version": "3.6.3"
  }
 },
 "nbformat": 4,
 "nbformat_minor": 2
}
