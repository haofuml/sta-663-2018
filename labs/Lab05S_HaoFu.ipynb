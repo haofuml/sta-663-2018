{
 "cells": [
  {
   "cell_type": "markdown",
   "metadata": {},
   "source": [
    "# Supplementary Practice Problems\n",
    "\n",
    "These are similar to programming problems you may encounter in the mid-terms. They are not graded but we will review them in lab sessions."
   ]
  },
  {
   "cell_type": "markdown",
   "metadata": {},
   "source": [
    "**1**. (10 points) The logistic map is defined by the following simple function\n",
    "\n",
    "$$\n",
    "f(x) = rx(1-x)\n",
    "$$\n",
    "\n",
    "For $x_0 = 0.1$ and $r = 4.0$, store the first 10 values of the iterated logistic map $x_{i+1} = rx_i(1-x_i)$ in a list. The first value in the list should be $x_0$."
   ]
  },
  {
   "cell_type": "code",
   "execution_count": 1,
   "metadata": {},
   "outputs": [
    {
     "data": {
      "text/plain": [
       "[0.1,\n",
       " 0.36000000000000004,\n",
       " 0.9216,\n",
       " 0.28901376000000006,\n",
       " 0.8219392261226498,\n",
       " 0.5854205387341974,\n",
       " 0.970813326249438,\n",
       " 0.11333924730376121,\n",
       " 0.4019738492975123,\n",
       " 0.9615634951138128]"
      ]
     },
     "execution_count": 1,
     "metadata": {},
     "output_type": "execute_result"
    }
   ],
   "source": [
    "r = 4.0\n",
    "vals = [0.1]\n",
    "for i in range(9):\n",
    "    vals.append(r*vals[-1]*(1-vals[-1]))\n",
    "vals"
   ]
  },
  {
   "cell_type": "markdown",
   "metadata": {},
   "source": [
    "**2**. (10 points) Write a function to find the greatest common divisor (GCD) of 2 numbers using Euclid's algorithm.:\n",
    "\n",
    "\\begin{align}\n",
    "\\gcd(a,0) &= a \\\\\n",
    "\\gcd(a, b) &= \\gcd(b, a \\mod b)\n",
    "\\end{align}\n",
    "\n",
    "Find the GCD of 5797 and 190978. \n",
    "\n",
    "Now write a function to find the GCD given a collection of numbers.\n",
    "\n",
    "Find the GCD of (24, 48, 60, 120, 8)."
   ]
  },
  {
   "cell_type": "code",
   "execution_count": 74,
   "metadata": {},
   "outputs": [],
   "source": [
    "def GCD(a,b):\n",
    "    if b == 0:\n",
    "        return a\n",
    "    return GCD(b, a%b)\n",
    "\n",
    "# def GCD_group(nums):\n",
    "#     if len(nums) == 1:\n",
    "#         return nums[0]\n",
    "#     a,b = nums[:2]\n",
    "#     for num in nums[2:]:\n",
    "#         a,b = GCD(a,b),num\n",
    "#     return GCD(a,b)\n",
    "from functools import reduce\n",
    "def GCD_group(nums):\n",
    "    return reduce(GCD, nums)"
   ]
  },
  {
   "cell_type": "code",
   "execution_count": 75,
   "metadata": {},
   "outputs": [
    {
     "data": {
      "text/plain": [
       "17"
      ]
     },
     "execution_count": 75,
     "metadata": {},
     "output_type": "execute_result"
    }
   ],
   "source": [
    "GCD(5797, 190978)"
   ]
  },
  {
   "cell_type": "code",
   "execution_count": 76,
   "metadata": {},
   "outputs": [
    {
     "data": {
      "text/plain": [
       "4"
      ]
     },
     "execution_count": 76,
     "metadata": {},
     "output_type": "execute_result"
    }
   ],
   "source": [
    "GCD_group((24, 48, 60, 120, 8))"
   ]
  },
  {
   "cell_type": "markdown",
   "metadata": {},
   "source": [
    "**3**. (10 points) Find the least squares linear solution to the following data\n",
    "\n",
    "```\n",
    "y = [1,2,3,4]\n",
    "x1 = [1,2,3,4]\n",
    "x2 = [2,3,4,5]\n",
    "```\n",
    "\n",
    "That is, find the \"best\" intercept and slope for the variables `x1` and `x2`."
   ]
  },
  {
   "cell_type": "code",
   "execution_count": 12,
   "metadata": {},
   "outputs": [
    {
     "data": {
      "text/plain": [
       "array([ 0.66666667,  0.33333333, -0.33333333])"
      ]
     },
     "execution_count": 12,
     "metadata": {},
     "output_type": "execute_result"
    }
   ],
   "source": [
    "import numpy as np\n",
    "from scipy.linalg import lstsq\n",
    "y = np.array([1,2,3,4])\n",
    "x1 = np.array([1,2,3,4])\n",
    "x2 = np.array([2,3,4,5])\n",
    "M = np.c_[x1,x2,[1]*4]\n",
    "w,res,_,s = lstsq(M, y)\n",
    "w"
   ]
  },
  {
   "cell_type": "markdown",
   "metadata": {},
   "source": [
    "**4**. (10 points) Read the `mtcars` data frame from R to a `pandas` DataFrame. Find the mean `wt` and `mpg` for all cars grouped by the number of `gear`s."
   ]
  },
  {
   "cell_type": "code",
   "execution_count": 16,
   "metadata": {
    "collapsed": true
   },
   "outputs": [],
   "source": [
    "%load_ext rpy2.ipython"
   ]
  },
  {
   "cell_type": "code",
   "execution_count": 20,
   "metadata": {},
   "outputs": [
    {
     "data": {
      "text/html": [
       "<div>\n",
       "<style>\n",
       "    .dataframe thead tr:only-child th {\n",
       "        text-align: right;\n",
       "    }\n",
       "\n",
       "    .dataframe thead th {\n",
       "        text-align: left;\n",
       "    }\n",
       "\n",
       "    .dataframe tbody tr th {\n",
       "        vertical-align: top;\n",
       "    }\n",
       "</style>\n",
       "<table border=\"1\" class=\"dataframe\">\n",
       "  <thead>\n",
       "    <tr style=\"text-align: right;\">\n",
       "      <th></th>\n",
       "      <th>wt</th>\n",
       "      <th>mpg</th>\n",
       "    </tr>\n",
       "    <tr>\n",
       "      <th>gear</th>\n",
       "      <th></th>\n",
       "      <th></th>\n",
       "    </tr>\n",
       "  </thead>\n",
       "  <tbody>\n",
       "    <tr>\n",
       "      <th>3.0</th>\n",
       "      <td>3.892600</td>\n",
       "      <td>16.106667</td>\n",
       "    </tr>\n",
       "    <tr>\n",
       "      <th>4.0</th>\n",
       "      <td>2.616667</td>\n",
       "      <td>24.533333</td>\n",
       "    </tr>\n",
       "    <tr>\n",
       "      <th>5.0</th>\n",
       "      <td>2.632600</td>\n",
       "      <td>21.380000</td>\n",
       "    </tr>\n",
       "  </tbody>\n",
       "</table>\n",
       "</div>"
      ],
      "text/plain": [
       "            wt        mpg\n",
       "gear                     \n",
       "3.0   3.892600  16.106667\n",
       "4.0   2.616667  24.533333\n",
       "5.0   2.632600  21.380000"
      ]
     },
     "execution_count": 20,
     "metadata": {},
     "output_type": "execute_result"
    }
   ],
   "source": [
    "mtcars = %R mtcars\n",
    "mtcars.groupby('gear')[['wt','mpg']].agg('mean')"
   ]
  },
  {
   "cell_type": "markdown",
   "metadata": {},
   "source": [
    "**5**. (10 points) Read the `iris` data frame from R to a `pandas` DataFrame. Make a `seaborn` plot showing a linear regression of `Petal.Length` (y) against `Sepal.Length` (x). Make a separate regression line for each `Species`."
   ]
  },
  {
   "cell_type": "code",
   "execution_count": 80,
   "metadata": {},
   "outputs": [
    {
     "data": {
      "text/plain": [
       "<seaborn.axisgrid.FacetGrid at 0x1a1aec10b8>"
      ]
     },
     "execution_count": 80,
     "metadata": {},
     "output_type": "execute_result"
    },
    {
     "data": {
      "image/png": "[encoded data removed]",
      "text/plain": [
       "<matplotlib.figure.Figure at 0x1a1ae91b70>"
      ]
     },
     "metadata": {},
     "output_type": "display_data"
    }
   ],
   "source": [
    "%R -o iris\n",
    "%matplotlib inline\n",
    "import seaborn as sns\n",
    "sns.lmplot(x='Sepal.Length' , y='Petal.Length' , hue='Species' , data=iris)"
   ]
  },
  {
   "cell_type": "markdown",
   "metadata": {},
   "source": [
    "**6**. (10 points) Write a function that can flatten a nested list of arbitrary depth. Check that\n",
    "\n",
    "```python\n",
    "flatten([1,[2,3],[4,[5,[6,7],8],9],10,[11,12]])\n",
    "```\n",
    "\n",
    "returns\n",
    "\n",
    "```python\n",
    "[1,2,3,4,5,6,7,8,9,10,11,12]\n",
    "```\n",
    "\n",
    "For simplicity, assume that the only data structure you will encounter is a list. You can check if an item is a list by using \n",
    "\n",
    "```python\n",
    "isinstance(item, list)\n",
    "```"
   ]
  },
  {
   "cell_type": "code",
   "execution_count": 82,
   "metadata": {},
   "outputs": [
    {
     "data": {
      "text/plain": [
       "[1, 2, 3, 4, 5, 6, 7, 8, 9, 10, 11, 12]"
      ]
     },
     "execution_count": 82,
     "metadata": {},
     "output_type": "execute_result"
    }
   ],
   "source": [
    "# def flatten(nested_list):\n",
    "#     flat_list = []\n",
    "#     for item in nested_list:\n",
    "#         if isinstance(item, list):\n",
    "#             flat_list.extend(flatten(item))\n",
    "#         else:\n",
    "#             flat_list.append(item)\n",
    "#     return flat_list\n",
    "\n",
    "def flatten(nested_list, flat=[]):\n",
    "    if isinstance(nested_list,list):\n",
    "        for item in nested_list:\n",
    "            flatten(item)\n",
    "    else:\n",
    "        flat.append(nested_list)\n",
    "    return flat\n",
    "\n",
    "flatten([1,[2,3],[4,[5,[6,7],8],9],10,[11,12]])"
   ]
  },
  {
   "cell_type": "markdown",
   "metadata": {},
   "source": [
    "**7**. (10 points) Create the following table\n",
    "\n",
    "```python\n",
    "array([[  1,   0,   0,   0,   0,   0,   0,   0,   0,   0,   0],\n",
    "       [  1,   1,   0,   0,   0,   0,   0,   0,   0,   0,   0],\n",
    "       [  1,   2,   1,   0,   0,   0,   0,   0,   0,   0,   0],\n",
    "       [  1,   3,   3,   1,   0,   0,   0,   0,   0,   0,   0],\n",
    "       [  1,   4,   6,   4,   1,   0,   0,   0,   0,   0,   0],\n",
    "       [  1,   5,  10,  10,   5,   1,   0,   0,   0,   0,   0],\n",
    "       [  1,   6,  15,  20,  15,   6,   1,   0,   0,   0,   0],\n",
    "       [  1,   7,  21,  35,  35,  21,   7,   1,   0,   0,   0],\n",
    "       [  1,   8,  28,  56,  70,  56,  28,   8,   1,   0,   0],\n",
    "       [  1,   9,  36,  84, 126, 126,  84,  36,   9,   1,   0],\n",
    "       [  1,  10,  45, 120, 210, 252, 210, 120,  45,  10,   1]])\n",
    "```\n",
    "\n",
    "Start with the first row\n",
    "\n",
    "```\n",
    "[  1,   0,   0,   0,   0,   0,   0,   0,   0,   0,   0]\n",
    "```\n",
    "\n",
    "and build the subsequent rows using a simple rule that only depends on the previous row."
   ]
  },
  {
   "cell_type": "code",
   "execution_count": 38,
   "metadata": {},
   "outputs": [
    {
     "data": {
      "text/plain": [
       "array([[  1,   0,   0,   0,   0,   0,   0,   0,   0,   0,   0],\n",
       "       [  1,   1,   0,   0,   0,   0,   0,   0,   0,   0,   0],\n",
       "       [  1,   2,   1,   0,   0,   0,   0,   0,   0,   0,   0],\n",
       "       [  1,   3,   3,   1,   0,   0,   0,   0,   0,   0,   0],\n",
       "       [  1,   4,   6,   4,   1,   0,   0,   0,   0,   0,   0],\n",
       "       [  1,   5,  10,  10,   5,   1,   0,   0,   0,   0,   0],\n",
       "       [  1,   6,  15,  20,  15,   6,   1,   0,   0,   0,   0],\n",
       "       [  1,   7,  21,  35,  35,  21,   7,   1,   0,   0,   0],\n",
       "       [  1,   8,  28,  56,  70,  56,  28,   8,   1,   0,   0],\n",
       "       [  1,   9,  36,  84, 126, 126,  84,  36,   9,   1,   0],\n",
       "       [  1,  10,  45, 120, 210, 252, 210, 120,  45,  10,   1]])"
      ]
     },
     "execution_count": 38,
     "metadata": {},
     "output_type": "execute_result"
    }
   ],
   "source": [
    "prev = np.array([ 1,   0,   0,   0,   0,   0,   0,   0,   0,   0,   0], dtype='int')\n",
    "complete = prev.reshape(1,-1)\n",
    "for i in range(len(prev)-1):\n",
    "    new = prev + np.r_[0, prev[:-1]]\n",
    "    complete = np.r_[complete, new[None,:]]\n",
    "    prev = new\n",
    "complete"
   ]
  },
  {
   "cell_type": "markdown",
   "metadata": {},
   "source": [
    "**8**. (10 points) Read the following data sets into DataFrames. \n",
    "\n",
    "- url1 = \"https://raw.github.com/vincentarelbundock/Rdatasets/master/csv/DAAG/hills.csv\"\n",
    "- url2 = \"https://raw.github.com/vincentarelbundock/Rdatasets/master/csv/DAAG/hills2000.csv\"\n",
    "\n",
    "Create a new DataFraem only containing the names present in both DataFrames. Drop the `timef` column and have a single column for `dist` , `climb` and `time` that shows the average value of the two DataFrames. The final DtataFrame will thus have 4 columns (name, dist, climb, time)."
   ]
  },
  {
   "cell_type": "code",
   "execution_count": 45,
   "metadata": {},
   "outputs": [],
   "source": [
    "import pandas as pd\n",
    "df1 = pd.read_csv(\"https://raw.github.com/vincentarelbundock/Rdatasets/master/csv/DAAG/hills.csv\")\n",
    "df2 = pd.read_csv(\"https://raw.github.com/vincentarelbundock/Rdatasets/master/csv/DAAG/hills2000.csv\")"
   ]
  },
  {
   "cell_type": "code",
   "execution_count": 72,
   "metadata": {},
   "outputs": [],
   "source": [
    "complete = pd.merge(df1, df2, on='Unnamed: 0')\n",
    "complete = complete.drop('timef',axis=1)\n",
    "complete['dist'] = complete[['dist_x','dist_y']].mean(axis=1)\n",
    "complete['climb'] = complete[['climb_x','climb_y']].mean(axis=1)\n",
    "complete['time'] = complete[['time_x','time_y']].mean(axis=1)\n",
    "complete = complete.drop(['dist_x','dist_y','climb_x','climb_y','time_x','time_y'],axis=1)"
   ]
  },
  {
   "cell_type": "code",
   "execution_count": 73,
   "metadata": {},
   "outputs": [
    {
     "data": {
      "text/html": [
       "<div>\n",
       "<style>\n",
       "    .dataframe thead tr:only-child th {\n",
       "        text-align: right;\n",
       "    }\n",
       "\n",
       "    .dataframe thead th {\n",
       "        text-align: left;\n",
       "    }\n",
       "\n",
       "    .dataframe tbody tr th {\n",
       "        vertical-align: top;\n",
       "    }\n",
       "</style>\n",
       "<table border=\"1\" class=\"dataframe\">\n",
       "  <thead>\n",
       "    <tr style=\"text-align: right;\">\n",
       "      <th></th>\n",
       "      <th>Unnamed: 0</th>\n",
       "      <th>dist</th>\n",
       "      <th>climb</th>\n",
       "      <th>time</th>\n",
       "    </tr>\n",
       "  </thead>\n",
       "  <tbody>\n",
       "    <tr>\n",
       "      <th>0</th>\n",
       "      <td>Craig Dunain</td>\n",
       "      <td>6.00</td>\n",
       "      <td>900.0</td>\n",
       "      <td>17.098056</td>\n",
       "    </tr>\n",
       "    <tr>\n",
       "      <th>1</th>\n",
       "      <td>Ben Lomond</td>\n",
       "      <td>8.50</td>\n",
       "      <td>3131.0</td>\n",
       "      <td>31.652389</td>\n",
       "    </tr>\n",
       "    <tr>\n",
       "      <th>2</th>\n",
       "      <td>Goatfell</td>\n",
       "      <td>8.00</td>\n",
       "      <td>2866.0</td>\n",
       "      <td>37.222389</td>\n",
       "    </tr>\n",
       "    <tr>\n",
       "      <th>3</th>\n",
       "      <td>Scolty</td>\n",
       "      <td>5.00</td>\n",
       "      <td>800.0</td>\n",
       "      <td>15.122917</td>\n",
       "    </tr>\n",
       "    <tr>\n",
       "      <th>4</th>\n",
       "      <td>Traprain</td>\n",
       "      <td>6.25</td>\n",
       "      <td>650.0</td>\n",
       "      <td>20.186944</td>\n",
       "    </tr>\n",
       "    <tr>\n",
       "      <th>5</th>\n",
       "      <td>Dollar</td>\n",
       "      <td>5.50</td>\n",
       "      <td>2000.0</td>\n",
       "      <td>21.844167</td>\n",
       "    </tr>\n",
       "    <tr>\n",
       "      <th>6</th>\n",
       "      <td>Lomonds</td>\n",
       "      <td>9.25</td>\n",
       "      <td>2200.0</td>\n",
       "      <td>33.026528</td>\n",
       "    </tr>\n",
       "    <tr>\n",
       "      <th>7</th>\n",
       "      <td>Black Hill</td>\n",
       "      <td>4.25</td>\n",
       "      <td>800.0</td>\n",
       "      <td>8.932389</td>\n",
       "    </tr>\n",
       "    <tr>\n",
       "      <th>8</th>\n",
       "      <td>Meall Ant-Suidhe</td>\n",
       "      <td>3.50</td>\n",
       "      <td>1500.0</td>\n",
       "      <td>14.182500</td>\n",
       "    </tr>\n",
       "    <tr>\n",
       "      <th>9</th>\n",
       "      <td>Creag Dubh</td>\n",
       "      <td>3.50</td>\n",
       "      <td>1611.5</td>\n",
       "      <td>13.340444</td>\n",
       "    </tr>\n",
       "    <tr>\n",
       "      <th>10</th>\n",
       "      <td>Criffel</td>\n",
       "      <td>6.75</td>\n",
       "      <td>1775.0</td>\n",
       "      <td>25.646667</td>\n",
       "    </tr>\n",
       "    <tr>\n",
       "      <th>11</th>\n",
       "      <td>Ben Nevis</td>\n",
       "      <td>10.00</td>\n",
       "      <td>4400.0</td>\n",
       "      <td>43.504556</td>\n",
       "    </tr>\n",
       "    <tr>\n",
       "      <th>12</th>\n",
       "      <td>Knockfarrel</td>\n",
       "      <td>5.50</td>\n",
       "      <td>900.0</td>\n",
       "      <td>16.503167</td>\n",
       "    </tr>\n",
       "    <tr>\n",
       "      <th>13</th>\n",
       "      <td>Two Breweries</td>\n",
       "      <td>18.00</td>\n",
       "      <td>5050.0</td>\n",
       "      <td>86.407917</td>\n",
       "    </tr>\n",
       "  </tbody>\n",
       "</table>\n",
       "</div>"
      ],
      "text/plain": [
       "          Unnamed: 0   dist   climb       time\n",
       "0       Craig Dunain   6.00   900.0  17.098056\n",
       "1         Ben Lomond   8.50  3131.0  31.652389\n",
       "2           Goatfell   8.00  2866.0  37.222389\n",
       "3             Scolty   5.00   800.0  15.122917\n",
       "4           Traprain   6.25   650.0  20.186944\n",
       "5             Dollar   5.50  2000.0  21.844167\n",
       "6            Lomonds   9.25  2200.0  33.026528\n",
       "7         Black Hill   4.25   800.0   8.932389\n",
       "8   Meall Ant-Suidhe   3.50  1500.0  14.182500\n",
       "9         Creag Dubh   3.50  1611.5  13.340444\n",
       "10           Criffel   6.75  1775.0  25.646667\n",
       "11         Ben Nevis  10.00  4400.0  43.504556\n",
       "12       Knockfarrel   5.50   900.0  16.503167\n",
       "13     Two Breweries  18.00  5050.0  86.407917"
      ]
     },
     "execution_count": 73,
     "metadata": {},
     "output_type": "execute_result"
    }
   ],
   "source": [
    "complete"
   ]
  },
  {
   "cell_type": "code",
   "execution_count": null,
   "metadata": {
    "collapsed": true
   },
   "outputs": [],
   "source": []
  }
 ],
 "metadata": {
  "kernelspec": {
   "display_name": "Python 3",
   "language": "python",
   "name": "python3"
  },
  "language_info": {
   "codemirror_mode": {
    "name": "ipython",
    "version": 3
   },
   "file_extension": ".py",
   "mimetype": "text/x-python",
   "name": "python",
   "nbconvert_exporter": "python",
   "pygments_lexer": "ipython3",
   "version": "3.6.3"
  }
 },
 "nbformat": 4,
 "nbformat_minor": 2
}
