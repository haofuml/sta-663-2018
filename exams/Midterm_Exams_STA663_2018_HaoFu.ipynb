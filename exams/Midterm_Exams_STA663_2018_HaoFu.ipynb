{
 "cells": [
  {
   "cell_type": "markdown",
   "metadata": {},
   "source": [
    "# STA 663 Midterm Exams\n",
    "\n",
    "Please observe the Duke honor code for this **closed book** exam.\n",
    "\n",
    "**Permitted exceptions to the closed book rule**\n",
    "\n",
    "- You may use any of the links accessible from the Help Menu for reference - that is, you may follow a chain of clicks from the landing pages of the sites accessible through the Help Menu. If you find yourself outside the help/reference pages of `python`, `ipython`, `numpy`, `scipy`, `matplotlib`, `sympy`, `pandas`, (e.g. on a Google search page or stackoverflow or current/past versions of the STA 663 notes) you are in danger of violating the honor code and should exit immediately.\n",
    "\n",
    "- You may also use TAB or SHIFT-TAB completion, as well as `?foo`, `foo?` and `help(foo)` for any function, method or class `foo`.\n",
    "\n",
    "The total points allocated is 125, but the maximum possible is 100. Hence it is possible to score 100 even with some errors or incomplete solutions."
   ]
  },
  {
   "cell_type": "markdown",
   "metadata": {},
   "source": [
    "## Imports\n",
    "\n",
    "All the necessary packages have been imported for you in the Code cells below. You should not need any additional imports."
   ]
  },
  {
   "cell_type": "code",
   "execution_count": 1,
   "metadata": {
    "collapsed": true
   },
   "outputs": [],
   "source": [
    "%matplotlib inline\n",
    "import  matplotlib.pyplot as plt\n",
    "import numpy as np\n",
    "import pandas as pd\n",
    "import scipy.linalg as la\n",
    "from collections import Counter\n",
    "from functools import reduce"
   ]
  },
  {
   "cell_type": "code",
   "execution_count": 2,
   "metadata": {
    "collapsed": true
   },
   "outputs": [],
   "source": [
    "%load_ext rpy2.ipython"
   ]
  },
  {
   "cell_type": "markdown",
   "metadata": {},
   "source": [
    "**1**. (10 points)\n",
    "\n",
    "Read the flights data at https://raw.githubusercontent.com/mwaskom/seaborn-data/master/flights.csv into a `pnadas` data frame. Find the average number of passengers per quarter (Q1, Q2, Q3,Q4) across the years 1950-1959 (inclusive of 1950 and 1959), where\n",
    "\n",
    "- Q1 = Jan, Feb, Mar\n",
    "- Q2 = Apr, May, Jun\n",
    "- Q3 = Jul, Aug, Sep\n",
    "- Q4 = Oct, Nov, Dec"
   ]
  },
  {
   "cell_type": "code",
   "execution_count": 3,
   "metadata": {},
   "outputs": [],
   "source": [
    "data = pd.read_csv('https://raw.githubusercontent.com/mwaskom/seaborn-data/master/flights.csv')\n",
    "data.head(3)\n",
    "data1 = data[(data.year>=1950) & (data.year<=1959)]\n",
    "\n",
    "Q1_mean = data1[data1.month.isin(['January','February','March'])].passengers.mean()\n",
    "Q2_mean = data1[data1.month.isin(['April','May','June'])].passengers.mean()\n",
    "Q3_mean = data1[data1.month.isin(['July','August','September'])].passengers.mean()\n",
    "Q4_mean = data1[data1.month.isin(['October','November','December'])].passengers.mean()"
   ]
  },
  {
   "cell_type": "code",
   "execution_count": 4,
   "metadata": {},
   "outputs": [
    {
     "name": "stdout",
     "output_type": "stream",
     "text": [
      "245.8 278.46666666666664 329.6666666666667 250.36666666666667\n"
     ]
    }
   ],
   "source": [
    "print(Q1_mean,Q2_mean,Q3_mean,Q4_mean)"
   ]
  },
  {
   "cell_type": "markdown",
   "metadata": {},
   "source": [
    "**2**. (10 points)\n",
    "\n",
    "The Collatz sequence is defined by the following rules for finding the next number\n",
    "\n",
    "```\n",
    "if the current number is even, divide by 2\n",
    "if the current number is odd, multiply by 3 and add 1\n",
    "if the current number is 1, stop\n",
    "```\n",
    "\n",
    "- Find the starting integer that gives the longest Collatz sequence for integers in the range(1, 10000). What is the starting number and length of this Collatz sequence?"
   ]
  },
  {
   "cell_type": "code",
   "execution_count": 5,
   "metadata": {},
   "outputs": [
    {
     "name": "stdout",
     "output_type": "stream",
     "text": [
      "6171 262\n"
     ]
    }
   ],
   "source": [
    "def collatz(start):\n",
    "    length = 1\n",
    "    while start != 1:\n",
    "        if start%2 == 0:\n",
    "            start = start//2\n",
    "        else:\n",
    "            start = 3*start+1\n",
    "        length += 1\n",
    "    return length\n",
    "\n",
    "[(i,collatz(i)) for i in range(1,10000)]\n",
    "start, max_len = max([(i,collatz(i)) for i in range(1,10000)], key= lambda x: x[1])\n",
    "print(start,max_len)"
   ]
  },
  {
   "cell_type": "markdown",
   "metadata": {},
   "source": [
    "**3**. (10 points)\n",
    "\n",
    "Recall that a covariance matrix is a matrix whose entries are\n",
    "\n",
    "![img](https://wikimedia.org/api/rest_v1/media/math/render/svg/4df2969e65403dd04f2c64137d21ff59b5f54190)\n",
    "\n",
    "Find the sample covariance matrix of the 4 features of the **iris** data set at http://bit.ly/2ow0oJO using basic `numpy` operations on `ndarrasy`. Do **not** use the `np.cov` or equivalent functions in `pandas` (except for checking). Remember to scale by $1/(n-1)$ for the sample covariance."
   ]
  },
  {
   "cell_type": "code",
   "execution_count": 6,
   "metadata": {
    "collapsed": true
   },
   "outputs": [],
   "source": [
    "iris = pd.read_csv('http://bit.ly/2ow0oJO')\n",
    "iris_mat = iris.loc[:,'sepal_length':'petal_width'].as_matrix()\n",
    "n = len(iris_mat)\n",
    "tmp = iris_mat - iris_mat.mean(axis=0)\n",
    "iris_cov = (tmp.T @ tmp)/(n-1)"
   ]
  },
  {
   "cell_type": "code",
   "execution_count": 7,
   "metadata": {},
   "outputs": [
    {
     "data": {
      "text/plain": [
       "array([[ 0.68569351, -0.03926846,  1.27368233,  0.5169038 ],\n",
       "       [-0.03926846,  0.18800403, -0.32171275, -0.11798121],\n",
       "       [ 1.27368233, -0.32171275,  3.11317942,  1.29638747],\n",
       "       [ 0.5169038 , -0.11798121,  1.29638747,  0.58241432]])"
      ]
     },
     "execution_count": 7,
     "metadata": {},
     "output_type": "execute_result"
    }
   ],
   "source": [
    "iris_cov"
   ]
  },
  {
   "cell_type": "markdown",
   "metadata": {},
   "source": [
    "**4**. (10 points)\n",
    "\n",
    "How many numbers in `range(100, 1000)` are divisible by 17 after you square them and add 1? Find this out using only **lambda** functions, **map**, **filter** and **reduce** on `xs`, where `xs = range(100, 10000)`.\n",
    "\n",
    "In pseudo-code, you want to achieve\n",
    "\n",
    "```python\n",
    "xs = range(100, 10000)\n",
    "count(y for y in (x**2 + 1 for x in xs) if y % 17 == 0)\n",
    "```"
   ]
  },
  {
   "cell_type": "code",
   "execution_count": 8,
   "metadata": {},
   "outputs": [
    {
     "data": {
      "text/plain": [
       "1164"
      ]
     },
     "execution_count": 8,
     "metadata": {},
     "output_type": "execute_result"
    }
   ],
   "source": [
    "xs = range(100, 10000)\n",
    "reduce(lambda x,y: x+y, filter(lambda x: x==1, map(lambda x: 1-(x**2+1)%17, xs)))"
   ]
  },
  {
   "cell_type": "markdown",
   "metadata": {},
   "source": [
    "**5**. (20 points)\n",
    "\n",
    "- Given the DNA sequence below, create a $4 \\times 4$ transition matrix $A$ where $A[i,j]$ is the probability of the base $j$ appearing immediately after base $i$. Note that a *base* is one of the four letters `a`, `c`, `t` or `g`. The letters below should be treated as a single sequence, broken into separate lines just for formatting purposes. You should check that row probabilities sum to 1. (10 points)\n",
    "- Find the steady state distribution of the 4 bases from the row stochastic transition matrix - that is the, the values of $x$ for which $x^TA = x$. Find the solution by solving a set of linear equations. Hint: you need to add a constraint on the values of $x$. Only partial credit will be given for other methods of finding the steady state distribution. (10 points)\n",
    "\n",
    "```\n",
    "gggttgtatgtcacttgagcctgtgcggacgagtgacacttgggacgtgaacagcggcggccgatacgttctctaagatc\n",
    "ctctcccatgggcctggtctgtatggctttcttgttgtgggggcggagaggcagcgagtgggtgtacattaagcatggcc\n",
    "accaccatgtggagcgtggcgtggtcgcggagttggcagggtttttgggggtggggagccggttcaggtattccctccgc\n",
    "gtttctgtcgggtaggggggcttctcgtaagggattgctgcggccgggttctctgggccgtgatgactgcaggtgccatg\n",
    "gaggcggtttggggggcccccggaagtctagcgggatcgggcttcgtttgtggaggagggggcgagtgcggaggtgttct\n",
    "```"
   ]
  },
  {
   "cell_type": "markdown",
   "metadata": {},
   "source": [
    "**Part 1**"
   ]
  },
  {
   "cell_type": "code",
   "execution_count": 9,
   "metadata": {},
   "outputs": [
    {
     "name": "stdout",
     "output_type": "stream",
     "text": [
      "[[ 0.09433962  0.20754717  0.24528302  0.45283019]\n",
      " [ 0.16666667  0.23809524  0.26190476  0.33333333]\n",
      " [ 0.10204082  0.2244898   0.2755102   0.39795918]\n",
      " [ 0.14634146  0.18902439  0.22560976  0.43902439]] \n",
      " [ 1.  1.  1.  1.]\n"
     ]
    }
   ],
   "source": [
    "dna = '''gggttgtatgtcacttgagcctgtgcggacgagtgacacttgggacgtgaacagcggcggccgatacgttctctaagatc\n",
    "ctctcccatgggcctggtctgtatggctttcttgttgtgggggcggagaggcagcgagtgggtgtacattaagcatggcc\n",
    "accaccatgtggagcgtggcgtggtcgcggagttggcagggtttttgggggtggggagccggttcaggtattccctccgc\n",
    "gtttctgtcgggtaggggggcttctcgtaagggattgctgcggccgggttctctgggccgtgatgactgcaggtgccatg\n",
    "gaggcggtttggggggcccccggaagtctagcgggatcgggcttcgtttgtggaggagggggcgagtgcggaggtgttct'''\n",
    "\n",
    "dna = ''.join(dna.splitlines())\n",
    "count = Counter(zip(dna, dna[1:]))\n",
    "base = ['a','c','t','g']\n",
    "tran_mat = np.array([[count[(i,j)] for j in base] for i in base])\n",
    "tran_mat = tran_mat/ tran_mat.sum(axis=1).reshape(-1,1)\n",
    "print(tran_mat, '\\n', tran_mat.sum(axis=1))"
   ]
  },
  {
   "cell_type": "markdown",
   "metadata": {},
   "source": [
    "**Part 2**"
   ]
  },
  {
   "cell_type": "code",
   "execution_count": 10,
   "metadata": {
    "collapsed": true
   },
   "outputs": [],
   "source": [
    "n = len(base)\n",
    "M = np.r_[tran_mat.T-np.eye(n), [[1]*n]]\n",
    "b = np.r_[[0]*n,1].reshape(-1,1)\n",
    "steady,_,_,_ = la.lstsq(M, b)"
   ]
  },
  {
   "cell_type": "code",
   "execution_count": 11,
   "metadata": {},
   "outputs": [
    {
     "data": {
      "text/plain": [
       "array([[ 0.1327228 ],\n",
       "       [ 0.21062262],\n",
       "       [ 0.24825335],\n",
       "       [ 0.40840123]])"
      ]
     },
     "execution_count": 11,
     "metadata": {},
     "output_type": "execute_result"
    }
   ],
   "source": [
    "steady"
   ]
  },
  {
   "cell_type": "markdown",
   "metadata": {},
   "source": [
    "**6**. (10 points)\n",
    "\n",
    "- Find the matrix $A$ that results in rotating the standard vectors in $\\mathbb{R}^2$ by 30 degrees counter-clockwise and stretches $e_1$ by a factor of 3 and contracts $e_2$ by a factor of $0.5$. \n",
    "- What is the inverse of this matrix? How you find the inverse should reflect your understanding.\n",
    "\n",
    "The effects of the matrix $A$ and $A^{-1}$ are shown in the figure below:\n",
    "\n",
    "![image](./vecs.png)"
   ]
  },
  {
   "cell_type": "code",
   "execution_count": 12,
   "metadata": {},
   "outputs": [
    {
     "data": {
      "text/plain": [
       "array([[ 2.59807621, -1.5       ],\n",
       "       [ 0.25      ,  0.4330127 ]])"
      ]
     },
     "execution_count": 12,
     "metadata": {},
     "output_type": "execute_result"
    }
   ],
   "source": [
    "rotate = np.array([[np.sqrt(3)/2, -1/2],[1/2, np.sqrt(3)/2]])\n",
    "scale = np.diag([3,0.5])\n",
    "A = scale @ rotate\n",
    "A"
   ]
  },
  {
   "cell_type": "code",
   "execution_count": 13,
   "metadata": {},
   "outputs": [
    {
     "data": {
      "text/plain": [
       "array([[ 0.28867513,  1.        ],\n",
       "       [-0.16666667,  1.73205081]])"
      ]
     },
     "execution_count": 13,
     "metadata": {},
     "output_type": "execute_result"
    }
   ],
   "source": [
    "A_inv = rotate.T @ np.diag([1/3,2])\n",
    "A_inv"
   ]
  },
  {
   "cell_type": "markdown",
   "metadata": {},
   "source": [
    "**7**. (55 points) \n",
    "\n",
    "We observe some data points $(x_i, y_i)$, and believe that an appropriate model for the data is that\n",
    "\n",
    "$$\n",
    "f(x) = ax^2 + bx^3 + c\\sin{x}\n",
    "$$\n",
    "\n",
    "with some added noise. Find optimal values of the parameters $\\beta = (a, b, c)$ that minimize $\\Vert y - f(x) \\Vert^2$\n",
    "\n",
    "1. using `scipy.linalg.lstsq` (10 points)\n",
    "2. solving the normal equations $X^TX \\beta = X^Ty$ (10 points)\n",
    "3. using `scipy.linalg.svd` (10 points)\n",
    "4. using gradient descent with RMSProp (no bias correction) and starting with an initial value of $\\beta = \\begin{bmatrix}1 & 1 & 1\\end{bmatrix}$. Use a learning rate of 0.01 and 10,000 iterations, and set the $\\beta$ parameter of RMSprop to be 0.9 (this is a different $\\beta$ from the parameters of the function we are minimizing). Running gradient descent should take a few seconds to complete. (25 points)\n",
    "\n",
    "In each case, plot the data and fitted curve using `matplotlib`.\n",
    "\n",
    "Data\n",
    "```\n",
    "x = array([ 3.4027718 ,  4.29209002,  5.88176277,  6.3465969 ,  7.21397852,\n",
    "        8.26972154, 10.27244608, 10.44703778, 10.79203455, 14.71146298])\n",
    "y = array([ 25.54026428,  29.4558919 ,  58.50315846,  70.24957254,\n",
    "        90.55155435, 100.56372833,  91.83189927,  90.41536733,\n",
    "        90.43103028,  23.0719842 ])\n",
    "```"
   ]
  },
  {
   "cell_type": "markdown",
   "metadata": {},
   "source": [
    "### Using `lstsq`"
   ]
  },
  {
   "cell_type": "code",
   "execution_count": 14,
   "metadata": {},
   "outputs": [
    {
     "data": {
      "text/plain": [
       "array([[  2.99259014],\n",
       "       [ -0.19883227],\n",
       "       [ 10.20024689]])"
      ]
     },
     "execution_count": 14,
     "metadata": {},
     "output_type": "execute_result"
    }
   ],
   "source": [
    "x = np.array([ 3.4027718 ,  4.29209002,  5.88176277,  6.3465969 ,  7.21397852,\n",
    "        8.26972154, 10.27244608, 10.44703778, 10.79203455, 14.71146298])\n",
    "y = np.array([ 25.54026428,  29.4558919 ,  58.50315846,  70.24957254,\n",
    "        90.55155435, 100.56372833,  91.83189927,  90.41536733,\n",
    "        90.43103028,  23.0719842 ]).reshape(-1,1)\n",
    "X = np.c_[x**2, x**3, np.sin(x)]\n",
    "beta1,_,_,_ = la.lstsq(X,y)\n",
    "beta1"
   ]
  },
  {
   "cell_type": "code",
   "execution_count": 15,
   "metadata": {},
   "outputs": [
    {
     "data": {
      "image/png": "[encoded data removed]",
      "text/plain": [
       "<matplotlib.figure.Figure at 0x619378f98>"
      ]
     },
     "metadata": {},
     "output_type": "display_data"
    }
   ],
   "source": [
    "xp = np.linspace(3,15,100)\n",
    "yp = np.c_[xp**2, xp**3, np.sin(xp)]@beta1\n",
    "plt.scatter(x, y)\n",
    "plt.plot(xp,yp)\n",
    "pass"
   ]
  },
  {
   "cell_type": "markdown",
   "metadata": {},
   "source": [
    "### Using normal equations"
   ]
  },
  {
   "cell_type": "code",
   "execution_count": 16,
   "metadata": {},
   "outputs": [
    {
     "data": {
      "text/plain": [
       "array([[  2.99259014],\n",
       "       [ -0.19883227],\n",
       "       [ 10.20024689]])"
      ]
     },
     "execution_count": 16,
     "metadata": {},
     "output_type": "execute_result"
    }
   ],
   "source": [
    "beta2 = la.solve(X.T@X, X.T@y)\n",
    "beta2"
   ]
  },
  {
   "cell_type": "code",
   "execution_count": 17,
   "metadata": {},
   "outputs": [
    {
     "data": {
      "image/png": "[encoded data removed]",
      "text/plain": [
       "<matplotlib.figure.Figure at 0x61a4fc160>"
      ]
     },
     "metadata": {},
     "output_type": "display_data"
    }
   ],
   "source": [
    "xp = np.linspace(3,15,100)\n",
    "yp = np.c_[xp**2, xp**3, np.sin(xp)]@beta2\n",
    "plt.scatter(x, y)\n",
    "plt.plot(xp,yp)\n",
    "pass"
   ]
  },
  {
   "cell_type": "markdown",
   "metadata": {
    "collapsed": true
   },
   "source": [
    "### Using SVD"
   ]
  },
  {
   "cell_type": "code",
   "execution_count": 18,
   "metadata": {},
   "outputs": [
    {
     "data": {
      "text/plain": [
       "array([[  2.99259014],\n",
       "       [ -0.19883227],\n",
       "       [ 10.20024689]])"
      ]
     },
     "execution_count": 18,
     "metadata": {},
     "output_type": "execute_result"
    }
   ],
   "source": [
    "U,s,Vt = la.svd(X)\n",
    "k = len(s)\n",
    "beta3 = Vt.T@np.diag(1/s)@U[:,:k].T@y\n",
    "beta3"
   ]
  },
  {
   "cell_type": "code",
   "execution_count": 19,
   "metadata": {},
   "outputs": [
    {
     "data": {
      "image/png": "[encoded data removed]",
      "text/plain": [
       "<matplotlib.figure.Figure at 0x622fe3160>"
      ]
     },
     "metadata": {},
     "output_type": "display_data"
    }
   ],
   "source": [
    "xp = np.linspace(3,15,100)\n",
    "yp = np.c_[xp**2, xp**3, np.sin(xp)]@beta3\n",
    "plt.scatter(x, y)\n",
    "plt.plot(xp,yp)\n",
    "pass"
   ]
  },
  {
   "cell_type": "markdown",
   "metadata": {},
   "source": [
    "### Using Gradient descent with RMSprop"
   ]
  },
  {
   "cell_type": "code",
   "execution_count": 20,
   "metadata": {},
   "outputs": [
    {
     "data": {
      "text/plain": [
       "array([[  2.99759014],\n",
       "       [ -0.19383227],\n",
       "       [ 10.20524689]])"
      ]
     },
     "execution_count": 20,
     "metadata": {},
     "output_type": "execute_result"
    }
   ],
   "source": [
    "def grad_f(X, y, beta):\n",
    "    return 2*X.T@(X@beta-y)\n",
    "\n",
    "def rmsprop_gd(beta0, X, y, grad_f, lr=0.01, max_itr=10000, beta_rms=0.9):\n",
    "    sln = beta0\n",
    "    grad_sqravg = 0\n",
    "    for i in range(max_itr):\n",
    "        grad = grad_f(X, y, sln)\n",
    "        grad_sqravg = beta_rms*grad_sqravg + (1-beta_rms)*grad**2\n",
    "        sln = sln - lr * grad / np.sqrt(grad_sqravg)\n",
    "    return sln\n",
    "\n",
    "beta0 = np.array([1,1,1]).reshape(-1,1)\n",
    "beta4 = rmsprop_gd(beta0, X, y, grad_f)\n",
    "beta4"
   ]
  },
  {
   "cell_type": "code",
   "execution_count": 21,
   "metadata": {},
   "outputs": [
    {
     "data": {
      "image/png": "[encoded data removed]",
      "text/plain": [
       "<matplotlib.figure.Figure at 0x623475c18>"
      ]
     },
     "metadata": {},
     "output_type": "display_data"
    }
   ],
   "source": [
    "xp = np.linspace(3,15,100)\n",
    "yp = np.c_[xp**2, xp**3, np.sin(xp)]@beta4\n",
    "plt.scatter(x, y)\n",
    "plt.plot(xp,yp)\n",
    "pass"
   ]
  }
 ],
 "metadata": {
  "kernelspec": {
   "display_name": "Python 3",
   "language": "python",
   "name": "python3"
  },
  "language_info": {
   "codemirror_mode": {
    "name": "ipython",
    "version": 3
   },
   "file_extension": ".py",
   "mimetype": "text/x-python",
   "name": "python",
   "nbconvert_exporter": "python",
   "pygments_lexer": "ipython3",
   "version": "3.6.3"
  }
 },
 "nbformat": 4,
 "nbformat_minor": 2
}
